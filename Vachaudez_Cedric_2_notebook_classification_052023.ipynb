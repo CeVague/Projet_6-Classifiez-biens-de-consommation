{
 "cells": [
  {
   "cell_type": "code",
   "execution_count": 1,
   "id": "7bd6f0a9",
   "metadata": {},
   "outputs": [],
   "source": [
    "import pandas as pd\n",
    "import numpy as np\n",
    "\n",
    "import matplotlib.pyplot as plt\n",
    "import seaborn as sns\n",
    "%matplotlib inline\n",
    "\n",
    "import os\n",
    "from os import listdir\n",
    "from os.path import exists\n",
    "\n",
    "import ipywidgets as widgets\n",
    "from ipywidgets import interact, interact_manual"
   ]
  },
  {
   "cell_type": "code",
   "execution_count": 2,
   "id": "cff7dbeb",
   "metadata": {},
   "outputs": [],
   "source": [
    "from sklearn.cluster import KMeans\n",
    "from sklearn import manifold, decomposition\n",
    "from sklearn.metrics.cluster import adjusted_rand_score"
   ]
  },
  {
   "cell_type": "code",
   "execution_count": 3,
   "id": "3068a5a2",
   "metadata": {},
   "outputs": [],
   "source": [
    "import cv2"
   ]
  },
  {
   "cell_type": "code",
   "execution_count": 4,
   "id": "052999b2",
   "metadata": {},
   "outputs": [],
   "source": [
    "import tensorflow as tf\n",
    "from tensorflow.keras.models import Model\n",
    "from tensorflow.keras.applications.vgg16 import VGG16\n",
    "from tensorflow.keras.applications.vgg16 import preprocess_input\n",
    "from tensorflow.keras.preprocessing.image import load_img, img_to_array"
   ]
  },
  {
   "cell_type": "code",
   "execution_count": null,
   "id": "92b66ccf",
   "metadata": {},
   "outputs": [],
   "source": []
  },
  {
   "cell_type": "code",
   "execution_count": null,
   "id": "7456f0cf",
   "metadata": {},
   "outputs": [],
   "source": []
  },
  {
   "cell_type": "code",
   "execution_count": 5,
   "id": "e9f9679b",
   "metadata": {},
   "outputs": [],
   "source": [
    "path_csv = './data/Flipkart/flipkart_com-ecommerce_sample_1050.csv'\n",
    "path_img = './data/Flipkart/Images'\n",
    "path_img_little = './data/Flipkart/ImagesLittles'"
   ]
  },
  {
   "cell_type": "code",
   "execution_count": 6,
   "id": "88d2b0bd",
   "metadata": {},
   "outputs": [],
   "source": [
    "data = pd.read_csv(path_csv)"
   ]
  },
  {
   "cell_type": "code",
   "execution_count": null,
   "id": "0d8f75c0",
   "metadata": {},
   "outputs": [],
   "source": []
  },
  {
   "cell_type": "code",
   "execution_count": 7,
   "id": "0b59130b",
   "metadata": {},
   "outputs": [],
   "source": [
    "# Récupère le noeud à la profondeur level\n",
    "# (ou la feuille si level va trop profond)\n",
    "def get_from_tree(tree, level):\n",
    "    if len(tree) > level:\n",
    "        return tree[level]\n",
    "    else:\n",
    "        return tree[-1]"
   ]
  },
  {
   "cell_type": "code",
   "execution_count": 8,
   "id": "79658d7d",
   "metadata": {},
   "outputs": [],
   "source": [
    "data['product_category_list'] = data['product_category_tree'].apply(lambda e : e[2:-2]).str.split(' >> ')"
   ]
  },
  {
   "cell_type": "code",
   "execution_count": 9,
   "id": "d3615beb",
   "metadata": {},
   "outputs": [],
   "source": [
    "def show_representation(data, cat, limit=None, X_tsne=None, title=''):\n",
    "    if X_tsne is None:\n",
    "        tsne = manifold.TSNE(n_components=2, perplexity=30, n_iter=2000, init='random')\n",
    "        X_tsne = tsne.fit_transform(data)\n",
    "    \n",
    "    df_tsne = pd.DataFrame(X_tsne, columns=['tsne1', 'tsne2'])\n",
    "    df_tsne[\"class\"] = cat.reset_index(drop=True)\n",
    "    \n",
    "    plt.figure(figsize=(8,5))\n",
    "    sns.scatterplot(\n",
    "        x=\"tsne1\", y=\"tsne2\",\n",
    "        hue=\"class\",\n",
    "        palette=sns.color_palette('tab10', n_colors=nb_cat_little), s=50,\n",
    "        data=df_tsne,\n",
    "        legend=\"brief\")\n",
    "\n",
    "    plt.title(title, fontsize = 14, pad = 35, fontweight = 'bold')\n",
    "    plt.xlabel('tsne1', fontsize = 14, fontweight = 'bold')\n",
    "    plt.ylabel('tsne2', fontsize = 14, fontweight = 'bold')\n",
    "    plt.legend(prop={'size': 8}) \n",
    "\n",
    "    plt.show()\n",
    "    \n",
    "    return X_tsne"
   ]
  },
  {
   "cell_type": "code",
   "execution_count": null,
   "id": "34717453",
   "metadata": {},
   "outputs": [],
   "source": []
  },
  {
   "cell_type": "code",
   "execution_count": 10,
   "id": "e8593d51",
   "metadata": {},
   "outputs": [],
   "source": [
    "level = -1"
   ]
  },
  {
   "cell_type": "code",
   "execution_count": null,
   "id": "f1e59c5c",
   "metadata": {},
   "outputs": [],
   "source": []
  },
  {
   "cell_type": "code",
   "execution_count": 11,
   "id": "9cd0b546",
   "metadata": {},
   "outputs": [],
   "source": [
    "data_final = data[['image', 'product_category_list']].copy()\n",
    "data_final.columns = ['img', 'cat_lst']\n",
    "data_final['img'] = path_img+'/'+data_final['img']\n",
    "\n",
    "data_final['cat'] = data_final['cat_lst'].apply(lambda tree : get_from_tree(tree, level))\n",
    "\n",
    "list_labels = list(data_final['cat'].value_counts().index)\n",
    "data_final['label'] = data_final['cat'].apply(lambda e : list_labels.index(e))"
   ]
  },
  {
   "cell_type": "code",
   "execution_count": 12,
   "id": "3850c925",
   "metadata": {},
   "outputs": [],
   "source": [
    "nb_cat_little = (data_final['cat'].value_counts() > 1).sum()\n",
    "nb_cat = len(list_labels)"
   ]
  },
  {
   "cell_type": "code",
   "execution_count": 13,
   "id": "4f795469",
   "metadata": {},
   "outputs": [
    {
     "name": "stdout",
     "output_type": "stream",
     "text": [
      "Nombre de catégories total : 642\n",
      "Nombre de catégories de plus de 1 élément : 96\n"
     ]
    }
   ],
   "source": [
    "print(\"Nombre de catégories total :\", nb_cat)\n",
    "print(\"Nombre de catégories de plus de 1 élément :\", nb_cat_little)"
   ]
  },
  {
   "cell_type": "code",
   "execution_count": 14,
   "id": "202ff510",
   "metadata": {},
   "outputs": [],
   "source": [
    "data_little = data_final.loc[data_final['cat'].isin(list_labels[:nb_cat_little])].copy().reset_index()"
   ]
  },
  {
   "cell_type": "code",
   "execution_count": 15,
   "id": "8bdfb8ef",
   "metadata": {},
   "outputs": [
    {
     "data": {
      "text/html": [
       "<div>\n",
       "<style scoped>\n",
       "    .dataframe tbody tr th:only-of-type {\n",
       "        vertical-align: middle;\n",
       "    }\n",
       "\n",
       "    .dataframe tbody tr th {\n",
       "        vertical-align: top;\n",
       "    }\n",
       "\n",
       "    .dataframe thead th {\n",
       "        text-align: right;\n",
       "    }\n",
       "</style>\n",
       "<table border=\"1\" class=\"dataframe\">\n",
       "  <thead>\n",
       "    <tr style=\"text-align: right;\">\n",
       "      <th></th>\n",
       "      <th>index</th>\n",
       "      <th>img</th>\n",
       "      <th>cat_lst</th>\n",
       "      <th>cat</th>\n",
       "      <th>label</th>\n",
       "    </tr>\n",
       "  </thead>\n",
       "  <tbody>\n",
       "    <tr>\n",
       "      <th>0</th>\n",
       "      <td>8</td>\n",
       "      <td>./data/Flipkart/Images/41384da51732c0b4df3de8f...</td>\n",
       "      <td>[Watches, Wrist Watches, Alfajr Wrist Watches]</td>\n",
       "      <td>Alfajr Wrist Watches</td>\n",
       "      <td>75</td>\n",
       "    </tr>\n",
       "    <tr>\n",
       "      <th>1</th>\n",
       "      <td>18</td>\n",
       "      <td>./data/Flipkart/Images/62c35de4df27437d3597963...</td>\n",
       "      <td>[Watches, Wrist Watches, Franck Bella Wrist Wa...</td>\n",
       "      <td>Franck Bella Wrist Watches</td>\n",
       "      <td>57</td>\n",
       "    </tr>\n",
       "    <tr>\n",
       "      <th>2</th>\n",
       "      <td>20</td>\n",
       "      <td>./data/Flipkart/Images/d7ca2b06b4f4d3b98c61c37...</td>\n",
       "      <td>[Watches, Wrist Watches, Skmei Wrist Watches]</td>\n",
       "      <td>Skmei Wrist Watches</td>\n",
       "      <td>62</td>\n",
       "    </tr>\n",
       "    <tr>\n",
       "      <th>3</th>\n",
       "      <td>21</td>\n",
       "      <td>./data/Flipkart/Images/f74476ba64365d97a5be7d3...</td>\n",
       "      <td>[Watches, Wrist Watches, Now Wrist Watches]</td>\n",
       "      <td>Now Wrist Watches</td>\n",
       "      <td>61</td>\n",
       "    </tr>\n",
       "    <tr>\n",
       "      <th>4</th>\n",
       "      <td>22</td>\n",
       "      <td>./data/Flipkart/Images/fda50982a672ef8835de5c1...</td>\n",
       "      <td>[Watches, Wrist Watches, Franck Bella Wrist Wa...</td>\n",
       "      <td>Franck Bella Wrist Watches</td>\n",
       "      <td>57</td>\n",
       "    </tr>\n",
       "    <tr>\n",
       "      <th>...</th>\n",
       "      <td>...</td>\n",
       "      <td>...</td>\n",
       "      <td>...</td>\n",
       "      <td>...</td>\n",
       "      <td>...</td>\n",
       "    </tr>\n",
       "    <tr>\n",
       "      <th>499</th>\n",
       "      <td>1044</td>\n",
       "      <td>./data/Flipkart/Images/be0f39341d771aac5708497...</td>\n",
       "      <td>[Baby Care, Baby &amp; Kids Gifts, Stickers, Wallm...</td>\n",
       "      <td>Wallmantra Stickers</td>\n",
       "      <td>30</td>\n",
       "    </tr>\n",
       "    <tr>\n",
       "      <th>500</th>\n",
       "      <td>1046</td>\n",
       "      <td>./data/Flipkart/Images/fd6cbcc22efb6b761bd564c...</td>\n",
       "      <td>[Baby Care, Baby &amp; Kids Gifts, Stickers, Wallm...</td>\n",
       "      <td>Wallmantra Stickers</td>\n",
       "      <td>30</td>\n",
       "    </tr>\n",
       "    <tr>\n",
       "      <th>501</th>\n",
       "      <td>1047</td>\n",
       "      <td>./data/Flipkart/Images/5912e037d12774bb73a2048...</td>\n",
       "      <td>[Baby Care, Baby &amp; Kids Gifts, Stickers, Uberl...</td>\n",
       "      <td>Uberlyfe Stickers</td>\n",
       "      <td>91</td>\n",
       "    </tr>\n",
       "    <tr>\n",
       "      <th>502</th>\n",
       "      <td>1048</td>\n",
       "      <td>./data/Flipkart/Images/c3edc504d1b4f0ba6224fa5...</td>\n",
       "      <td>[Baby Care, Baby &amp; Kids Gifts, Stickers, Wallm...</td>\n",
       "      <td>Wallmantra Stickers</td>\n",
       "      <td>30</td>\n",
       "    </tr>\n",
       "    <tr>\n",
       "      <th>503</th>\n",
       "      <td>1049</td>\n",
       "      <td>./data/Flipkart/Images/f2f027ad6a6df617c9f1251...</td>\n",
       "      <td>[Baby Care, Baby &amp; Kids Gifts, Stickers, Uberl...</td>\n",
       "      <td>Uberlyfe Stickers</td>\n",
       "      <td>91</td>\n",
       "    </tr>\n",
       "  </tbody>\n",
       "</table>\n",
       "<p>504 rows × 5 columns</p>\n",
       "</div>"
      ],
      "text/plain": [
       "     index                                                img  \\\n",
       "0        8  ./data/Flipkart/Images/41384da51732c0b4df3de8f...   \n",
       "1       18  ./data/Flipkart/Images/62c35de4df27437d3597963...   \n",
       "2       20  ./data/Flipkart/Images/d7ca2b06b4f4d3b98c61c37...   \n",
       "3       21  ./data/Flipkart/Images/f74476ba64365d97a5be7d3...   \n",
       "4       22  ./data/Flipkart/Images/fda50982a672ef8835de5c1...   \n",
       "..     ...                                                ...   \n",
       "499   1044  ./data/Flipkart/Images/be0f39341d771aac5708497...   \n",
       "500   1046  ./data/Flipkart/Images/fd6cbcc22efb6b761bd564c...   \n",
       "501   1047  ./data/Flipkart/Images/5912e037d12774bb73a2048...   \n",
       "502   1048  ./data/Flipkart/Images/c3edc504d1b4f0ba6224fa5...   \n",
       "503   1049  ./data/Flipkart/Images/f2f027ad6a6df617c9f1251...   \n",
       "\n",
       "                                               cat_lst  \\\n",
       "0       [Watches, Wrist Watches, Alfajr Wrist Watches]   \n",
       "1    [Watches, Wrist Watches, Franck Bella Wrist Wa...   \n",
       "2        [Watches, Wrist Watches, Skmei Wrist Watches]   \n",
       "3          [Watches, Wrist Watches, Now Wrist Watches]   \n",
       "4    [Watches, Wrist Watches, Franck Bella Wrist Wa...   \n",
       "..                                                 ...   \n",
       "499  [Baby Care, Baby & Kids Gifts, Stickers, Wallm...   \n",
       "500  [Baby Care, Baby & Kids Gifts, Stickers, Wallm...   \n",
       "501  [Baby Care, Baby & Kids Gifts, Stickers, Uberl...   \n",
       "502  [Baby Care, Baby & Kids Gifts, Stickers, Wallm...   \n",
       "503  [Baby Care, Baby & Kids Gifts, Stickers, Uberl...   \n",
       "\n",
       "                            cat  label  \n",
       "0          Alfajr Wrist Watches     75  \n",
       "1    Franck Bella Wrist Watches     57  \n",
       "2           Skmei Wrist Watches     62  \n",
       "3             Now Wrist Watches     61  \n",
       "4    Franck Bella Wrist Watches     57  \n",
       "..                          ...    ...  \n",
       "499         Wallmantra Stickers     30  \n",
       "500         Wallmantra Stickers     30  \n",
       "501           Uberlyfe Stickers     91  \n",
       "502         Wallmantra Stickers     30  \n",
       "503           Uberlyfe Stickers     91  \n",
       "\n",
       "[504 rows x 5 columns]"
      ]
     },
     "execution_count": 15,
     "metadata": {},
     "output_type": "execute_result"
    }
   ],
   "source": [
    "data_little"
   ]
  },
  {
   "cell_type": "code",
   "execution_count": null,
   "id": "f515b759",
   "metadata": {},
   "outputs": [],
   "source": []
  },
  {
   "cell_type": "code",
   "execution_count": null,
   "id": "29f56844",
   "metadata": {},
   "outputs": [],
   "source": []
  },
  {
   "cell_type": "markdown",
   "id": "ca739339",
   "metadata": {},
   "source": [
    "# Mon CODE"
   ]
  },
  {
   "cell_type": "code",
   "execution_count": 16,
   "id": "5fafd61d",
   "metadata": {},
   "outputs": [
    {
     "data": {
      "text/plain": [
       "(None, 224, 224, 3)"
      ]
     },
     "execution_count": 16,
     "metadata": {},
     "output_type": "execute_result"
    }
   ],
   "source": [
    "input_shape = VGG16().input_shape\n",
    "input_shape"
   ]
  },
  {
   "cell_type": "code",
   "execution_count": 17,
   "id": "e4d67dff",
   "metadata": {},
   "outputs": [],
   "source": [
    "base_model = VGG16(include_top=False, input_shape=input_shape[1:])\n",
    "base_model.trainable = False"
   ]
  },
  {
   "cell_type": "code",
   "execution_count": 18,
   "id": "0b9d0f84",
   "metadata": {},
   "outputs": [
    {
     "name": "stdout",
     "output_type": "stream",
     "text": [
      "Model: \"vgg16\"\n",
      "_________________________________________________________________\n",
      " Layer (type)                Output Shape              Param #   \n",
      "=================================================================\n",
      " input_2 (InputLayer)        [(None, 224, 224, 3)]     0         \n",
      "                                                                 \n",
      " block1_conv1 (Conv2D)       (None, 224, 224, 64)      1792      \n",
      "                                                                 \n",
      " block1_conv2 (Conv2D)       (None, 224, 224, 64)      36928     \n",
      "                                                                 \n",
      " block1_pool (MaxPooling2D)  (None, 112, 112, 64)      0         \n",
      "                                                                 \n",
      " block2_conv1 (Conv2D)       (None, 112, 112, 128)     73856     \n",
      "                                                                 \n",
      " block2_conv2 (Conv2D)       (None, 112, 112, 128)     147584    \n",
      "                                                                 \n",
      " block2_pool (MaxPooling2D)  (None, 56, 56, 128)       0         \n",
      "                                                                 \n",
      " block3_conv1 (Conv2D)       (None, 56, 56, 256)       295168    \n",
      "                                                                 \n",
      " block3_conv2 (Conv2D)       (None, 56, 56, 256)       590080    \n",
      "                                                                 \n",
      " block3_conv3 (Conv2D)       (None, 56, 56, 256)       590080    \n",
      "                                                                 \n",
      " block3_pool (MaxPooling2D)  (None, 28, 28, 256)       0         \n",
      "                                                                 \n",
      " block4_conv1 (Conv2D)       (None, 28, 28, 512)       1180160   \n",
      "                                                                 \n",
      " block4_conv2 (Conv2D)       (None, 28, 28, 512)       2359808   \n",
      "                                                                 \n",
      " block4_conv3 (Conv2D)       (None, 28, 28, 512)       2359808   \n",
      "                                                                 \n",
      " block4_pool (MaxPooling2D)  (None, 14, 14, 512)       0         \n",
      "                                                                 \n",
      " block5_conv1 (Conv2D)       (None, 14, 14, 512)       2359808   \n",
      "                                                                 \n",
      " block5_conv2 (Conv2D)       (None, 14, 14, 512)       2359808   \n",
      "                                                                 \n",
      " block5_conv3 (Conv2D)       (None, 14, 14, 512)       2359808   \n",
      "                                                                 \n",
      " block5_pool (MaxPooling2D)  (None, 7, 7, 512)         0         \n",
      "                                                                 \n",
      "=================================================================\n",
      "Total params: 14,714,688\n",
      "Trainable params: 0\n",
      "Non-trainable params: 14,714,688\n",
      "_________________________________________________________________\n"
     ]
    }
   ],
   "source": [
    "base_model.summary()"
   ]
  },
  {
   "cell_type": "markdown",
   "id": "7f459467",
   "metadata": {},
   "source": [
    "## Conversion"
   ]
  },
  {
   "cell_type": "code",
   "execution_count": 19,
   "id": "d7b615d7",
   "metadata": {},
   "outputs": [],
   "source": [
    "from sklearn.model_selection import train_test_split"
   ]
  },
  {
   "cell_type": "code",
   "execution_count": 20,
   "id": "376ae2d4",
   "metadata": {},
   "outputs": [],
   "source": [
    "from tensorflow.keras.utils import to_categorical"
   ]
  },
  {
   "cell_type": "code",
   "execution_count": 21,
   "id": "7860ec26",
   "metadata": {},
   "outputs": [],
   "source": [
    "from tensorflow.keras import layers, models\n",
    "from tensorflow.keras.callbacks import EarlyStopping"
   ]
  },
  {
   "cell_type": "code",
   "execution_count": 22,
   "id": "ecb0590a",
   "metadata": {},
   "outputs": [],
   "source": [
    "def preprocess_image(path):\n",
    "    image = load_img(path, target_size=input_shape[1:3])\n",
    "    image = img_to_array(image)\n",
    "    image = preprocess_input(image)\n",
    "    return image"
   ]
  },
  {
   "cell_type": "code",
   "execution_count": 23,
   "id": "910977b3",
   "metadata": {},
   "outputs": [],
   "source": [
    "data_X = list(data_little[\"img\"].apply(preprocess_image))\n",
    "data_X = np.asarray(data_X).astype(np.float32)"
   ]
  },
  {
   "cell_type": "code",
   "execution_count": 24,
   "id": "6a40a654",
   "metadata": {},
   "outputs": [],
   "source": [
    "data_y = to_categorical(data_little['label'], num_classes=nb_cat_little)"
   ]
  },
  {
   "cell_type": "code",
   "execution_count": null,
   "id": "cacf64a7",
   "metadata": {},
   "outputs": [],
   "source": []
  },
  {
   "cell_type": "code",
   "execution_count": 25,
   "id": "c54c253d",
   "metadata": {},
   "outputs": [],
   "source": [
    "X_train, X_test, y_train, y_test = train_test_split(data_X, data_y, test_size=0.33, stratify=data_y)"
   ]
  },
  {
   "cell_type": "code",
   "execution_count": null,
   "id": "9225586d",
   "metadata": {},
   "outputs": [],
   "source": []
  },
  {
   "cell_type": "code",
   "execution_count": 26,
   "id": "26392ebc",
   "metadata": {},
   "outputs": [],
   "source": [
    "flatten_layer = layers.Flatten()\n",
    "dense_layer_1 = layers.Dense(nb_cat_little*10, activation='relu')\n",
    "drop_out = layers.Dropout(0.2)\n",
    "dense_layer_2 = layers.Dense(nb_cat_little*4, activation='relu')\n",
    "prediction_layer = layers.Dense(nb_cat_little, activation='softmax')\n",
    "\n",
    "\n",
    "model = models.Sequential([\n",
    "    base_model,\n",
    "    flatten_layer,\n",
    "    dense_layer_1,\n",
    "    dense_layer_2,\n",
    "    drop_out,\n",
    "    prediction_layer\n",
    "])\n",
    "\n",
    "# Dropout(0.5)(x)"
   ]
  },
  {
   "cell_type": "code",
   "execution_count": 27,
   "id": "b4fa4713",
   "metadata": {},
   "outputs": [
    {
     "name": "stdout",
     "output_type": "stream",
     "text": [
      "Model: \"sequential\"\n",
      "_________________________________________________________________\n",
      " Layer (type)                Output Shape              Param #   \n",
      "=================================================================\n",
      " vgg16 (Functional)          (None, 7, 7, 512)         14714688  \n",
      "                                                                 \n",
      " flatten (Flatten)           (None, 25088)             0         \n",
      "                                                                 \n",
      " dense (Dense)               (None, 960)               24085440  \n",
      "                                                                 \n",
      " dense_1 (Dense)             (None, 384)               369024    \n",
      "                                                                 \n",
      " dropout (Dropout)           (None, 384)               0         \n",
      "                                                                 \n",
      " dense_2 (Dense)             (None, 96)                36960     \n",
      "                                                                 \n",
      "=================================================================\n",
      "Total params: 39,206,112\n",
      "Trainable params: 24,491,424\n",
      "Non-trainable params: 14,714,688\n",
      "_________________________________________________________________\n"
     ]
    }
   ],
   "source": [
    "model.summary()"
   ]
  },
  {
   "cell_type": "code",
   "execution_count": null,
   "id": "a9a50cad",
   "metadata": {},
   "outputs": [],
   "source": []
  },
  {
   "cell_type": "code",
   "execution_count": null,
   "id": "6a056099",
   "metadata": {},
   "outputs": [
    {
     "name": "stdout",
     "output_type": "stream",
     "text": [
      "Epoch 1/20\n",
      "9/9 [==============================] - 152s 17s/step - loss: 50.8099 - accuracy: 0.1710 - val_loss: 35.7271 - val_accuracy: 0.3088\n",
      "Epoch 2/20\n",
      "9/9 [==============================] - 143s 16s/step - loss: 13.9370 - accuracy: 0.6245 - val_loss: 26.4971 - val_accuracy: 0.3824\n",
      "Epoch 3/20\n",
      "9/9 [==============================] - 118s 13s/step - loss: 4.9419 - accuracy: 0.8067 - val_loss: 25.6346 - val_accuracy: 0.4412\n",
      "Epoch 4/20\n",
      "9/9 [==============================] - 119s 13s/step - loss: 2.9587 - accuracy: 0.8885 - val_loss: 30.8946 - val_accuracy: 0.3971\n",
      "Epoch 5/20\n",
      "6/9 [===================>..........] - ETA: 33s - loss: 1.0544 - accuracy: 0.9271"
     ]
    }
   ],
   "source": [
    "model.compile(\n",
    "    optimizer='adam',\n",
    "    loss='categorical_crossentropy',\n",
    "    metrics=['accuracy'],\n",
    ")\n",
    "\n",
    "\n",
    "es = EarlyStopping(monitor='val_accuracy',  min_delta = 0.02, mode='max', patience=4, restore_best_weights=True)\n",
    "es = EarlyStopping(monitor='val_loss', min_delta = 0.02, mode='min', patience=4, restore_best_weights=True)\n",
    "\n",
    "history = model.fit(X_train, y_train, epochs=20, validation_split=0.2, batch_size=32, callbacks=[es])"
   ]
  },
  {
   "cell_type": "code",
   "execution_count": null,
   "id": "639a39be",
   "metadata": {},
   "outputs": [],
   "source": []
  },
  {
   "cell_type": "code",
   "execution_count": null,
   "id": "e9f0e41a",
   "metadata": {},
   "outputs": [],
   "source": []
  },
  {
   "cell_type": "code",
   "execution_count": null,
   "id": "6c0b4022",
   "metadata": {},
   "outputs": [],
   "source": [
    "def cat_to_label(l):\n",
    "    return np.argmax(l)"
   ]
  },
  {
   "cell_type": "code",
   "execution_count": null,
   "id": "acce08a4",
   "metadata": {},
   "outputs": [],
   "source": []
  },
  {
   "cell_type": "code",
   "execution_count": null,
   "id": "892e71b3",
   "metadata": {},
   "outputs": [],
   "source": [
    "from sklearn.metrics import confusion_matrix, balanced_accuracy_score, accuracy_score"
   ]
  },
  {
   "cell_type": "code",
   "execution_count": null,
   "id": "76640366",
   "metadata": {},
   "outputs": [],
   "source": [
    "pred_train = model.predict(X_train)"
   ]
  },
  {
   "cell_type": "code",
   "execution_count": null,
   "id": "6089b7ca",
   "metadata": {},
   "outputs": [],
   "source": [
    "balanced_accuracy_score([cat_to_label(e) for e in pred_train], [cat_to_label(e) for e in y_train])"
   ]
  },
  {
   "cell_type": "code",
   "execution_count": null,
   "id": "445ae1a2",
   "metadata": {},
   "outputs": [],
   "source": [
    "pred_test = model.predict(X_test)"
   ]
  },
  {
   "cell_type": "code",
   "execution_count": null,
   "id": "dbd51509",
   "metadata": {},
   "outputs": [],
   "source": [
    "balanced_accuracy_score([cat_to_label(e) for e in y_test], [cat_to_label(e) for e in pred_test])"
   ]
  },
  {
   "cell_type": "code",
   "execution_count": null,
   "id": "24597829",
   "metadata": {},
   "outputs": [],
   "source": [
    "from plot_keras_history import show_history, plot_history\n",
    "import matplotlib.pyplot as plt"
   ]
  },
  {
   "cell_type": "code",
   "execution_count": null,
   "id": "db47a76b",
   "metadata": {},
   "outputs": [],
   "source": [
    "show_history(history)\n",
    "plot_history(history, path=\"standard.png\")\n",
    "plt.close()"
   ]
  },
  {
   "cell_type": "code",
   "execution_count": null,
   "id": "6a5dc18a",
   "metadata": {},
   "outputs": [],
   "source": []
  },
  {
   "cell_type": "code",
   "execution_count": null,
   "id": "21e4f6d3",
   "metadata": {},
   "outputs": [],
   "source": []
  },
  {
   "cell_type": "code",
   "execution_count": null,
   "id": "966a4c29",
   "metadata": {},
   "outputs": [],
   "source": []
  },
  {
   "cell_type": "code",
   "execution_count": null,
   "id": "4949999e",
   "metadata": {},
   "outputs": [],
   "source": []
  },
  {
   "cell_type": "markdown",
   "id": "d6ab1df8",
   "metadata": {},
   "source": [
    "# Data Augmentation"
   ]
  },
  {
   "cell_type": "code",
   "execution_count": null,
   "id": "45256088",
   "metadata": {},
   "outputs": [],
   "source": [
    "tmp = data_final['cat'].value_counts()"
   ]
  },
  {
   "cell_type": "code",
   "execution_count": null,
   "id": "6644c32a",
   "metadata": {},
   "outputs": [],
   "source": [
    "fig, ax = plt.subplots()\n",
    "sns.histplot(tmp, shrink=.8, discrete=True, ax=ax)\n",
    "ax.set_xlim(0,max(tmp)+1)\n",
    "plt.show()"
   ]
  },
  {
   "cell_type": "code",
   "execution_count": null,
   "id": "c0c89cdb",
   "metadata": {},
   "outputs": [],
   "source": []
  }
 ],
 "metadata": {
  "kernelspec": {
   "display_name": "Python 3 (ipykernel)",
   "language": "python",
   "name": "python3"
  },
  "language_info": {
   "codemirror_mode": {
    "name": "ipython",
    "version": 3
   },
   "file_extension": ".py",
   "mimetype": "text/x-python",
   "name": "python",
   "nbconvert_exporter": "python",
   "pygments_lexer": "ipython3",
   "version": "3.10.10"
  }
 },
 "nbformat": 4,
 "nbformat_minor": 5
}
