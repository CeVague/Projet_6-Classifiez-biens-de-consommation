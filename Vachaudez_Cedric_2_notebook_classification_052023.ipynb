{
 "cells": [
  {
   "cell_type": "code",
   "execution_count": 1,
   "id": "7bd6f0a9",
   "metadata": {},
   "outputs": [],
   "source": [
    "import pandas as pd\n",
    "import numpy as np\n",
    "\n",
    "import matplotlib.pyplot as plt\n",
    "import seaborn as sns\n",
    "%matplotlib inline\n",
    "\n",
    "import os\n",
    "from os import listdir\n",
    "from os.path import exists\n",
    "\n",
    "import ipywidgets as widgets\n",
    "from ipywidgets import interact, interact_manual"
   ]
  },
  {
   "cell_type": "code",
   "execution_count": 57,
   "id": "cff7dbeb",
   "metadata": {},
   "outputs": [],
   "source": [
    "from sklearn.model_selection import train_test_split\n",
    "\n",
    "from sklearn.cluster import KMeans\n",
    "from sklearn import manifold, decomposition\n",
    "\n",
    "from sklearn.metrics.cluster import adjusted_rand_score\n",
    "from sklearn.metrics import *"
   ]
  },
  {
   "cell_type": "code",
   "execution_count": 3,
   "id": "3068a5a2",
   "metadata": {},
   "outputs": [],
   "source": [
    "import cv2"
   ]
  },
  {
   "cell_type": "code",
   "execution_count": 4,
   "id": "052999b2",
   "metadata": {},
   "outputs": [],
   "source": [
    "import tensorflow as tf\n",
    "\n",
    "from tensorflow.keras.models import Model\n",
    "# Utilisation d'autre chose que VGG16 car trop lent et surdimensionné pour nous\n",
    "from tensorflow.keras.applications.mobilenet_v2 import MobileNetV2\n",
    "from tensorflow.keras.applications.mobilenet_v2 import preprocess_input\n",
    "\n",
    "from tensorflow.keras.preprocessing.image import load_img, img_to_array"
   ]
  },
  {
   "cell_type": "code",
   "execution_count": 5,
   "id": "59f2c530",
   "metadata": {},
   "outputs": [],
   "source": [
    "from tensorflow.keras.utils import to_categorical\n",
    "from tensorflow.keras import layers, models\n",
    "from tensorflow.keras.callbacks import EarlyStopping"
   ]
  },
  {
   "cell_type": "code",
   "execution_count": 6,
   "id": "bd5009c3",
   "metadata": {},
   "outputs": [
    {
     "data": {
      "text/html": [
       "\n",
       "        <style>\n",
       "            .support_message_main_box {\n",
       "                position: relative;\n",
       "                display: table-cell;\n",
       "                vertical-align: middle;\n",
       "                width: 100%;\n",
       "                height: 8em;\n",
       "                padding: 1em;\n",
       "                padding-left: 11em;\n",
       "                background-color: #f7f7f7;\n",
       "                border: 1px solid #cfcfcf;\n",
       "                border-radius: 2px;\n",
       "            }\n",
       "            .support_message_main_box img {\n",
       "                position: absolute;\n",
       "                height: 9em;\n",
       "                width: 9em;\n",
       "                left: 0.5em;\n",
       "                top: 0.5em;\n",
       "                border-radius: 1em;\n",
       "            }\n",
       "        </style>\n",
       "        <div class=\"support_message_main_box\">\n",
       "            <img src=\"https://avatars.githubusercontent.com/u/7738570?v=4\" />\n",
       "            <p>\n",
       "            <b>Hi!</b><br/>\n",
       "            <span>I am the author of\n",
       "            <a href=\"https://github.com/LucaCappelletti94/plot_keras_history\" target=\"_blank\">\n",
       "                plot_keras_history\n",
       "            </a>, which you use in this Notebook.\n",
       "            </span><br/>\n",
       "            \n",
       "        <span>I hope my work has saved you some time!</span><br/>\n",
       "        \n",
       "            <span>I love to code, but I also need coffee.</span>\n",
       "            <a href=\"https://github.com/sponsors/LucaCappelletti94\" target=\"_blank\">\n",
       "                Please sponsor me on GitHub ❤️\n",
       "            </a><br/>\n",
       "            <i>Good luck in your coding 🍀!</i>\n",
       "            <br/>\n",
       "            <i>- Luca</i>\n",
       "            </p>\n",
       "        <div>\n",
       "        "
      ],
      "text/plain": [
       "<IPython.core.display.HTML object>"
      ]
     },
     "metadata": {},
     "output_type": "display_data"
    }
   ],
   "source": [
    "from plot_keras_history import show_history, plot_history"
   ]
  },
  {
   "cell_type": "markdown",
   "id": "3fa697e4",
   "metadata": {},
   "source": [
    "# Récupération des données"
   ]
  },
  {
   "cell_type": "code",
   "execution_count": 7,
   "id": "e9f9679b",
   "metadata": {},
   "outputs": [],
   "source": [
    "path_csv = './data/Flipkart/flipkart_com-ecommerce_sample_1050.csv'\n",
    "path_img = './data/Flipkart/Images'\n",
    "path_img_little = './data/Flipkart/ImagesLittles'"
   ]
  },
  {
   "cell_type": "code",
   "execution_count": 8,
   "id": "88d2b0bd",
   "metadata": {},
   "outputs": [],
   "source": [
    "data = pd.read_csv(path_csv)"
   ]
  },
  {
   "cell_type": "markdown",
   "id": "8e4cd406",
   "metadata": {},
   "source": [
    "## Mise en forme et quelques stats"
   ]
  },
  {
   "cell_type": "markdown",
   "id": "cb0d9d19",
   "metadata": {},
   "source": [
    "### Gestion de l'arbre de catégories"
   ]
  },
  {
   "cell_type": "code",
   "execution_count": 9,
   "id": "0b59130b",
   "metadata": {},
   "outputs": [],
   "source": [
    "# Récupère le noeud à la profondeur \"level\"\n",
    "# (ou la feuille si level va trop profond)\n",
    "# (ou la racine si level remonte trop)\n",
    "def get_from_tree(tree, level):\n",
    "    if len(tree) > level and len(tree) >= -level:\n",
    "        return tree[level]\n",
    "    elif len(tree) < -level:\n",
    "        return tree[0]\n",
    "    else:\n",
    "        return tree[-1]"
   ]
  },
  {
   "cell_type": "code",
   "execution_count": 10,
   "id": "79658d7d",
   "metadata": {},
   "outputs": [],
   "source": [
    "data['product_category_list'] = data['product_category_tree'].apply(lambda e : e[2:-2]).str.split(' >> ')"
   ]
  },
  {
   "cell_type": "code",
   "execution_count": 11,
   "id": "f17cab83",
   "metadata": {},
   "outputs": [
    {
     "name": "stdout",
     "output_type": "stream",
     "text": [
      "Nombre total de catégories possible (en comptant noeuds et feuilles) :\n",
      "1126\n"
     ]
    }
   ],
   "source": [
    "print(\"Nombre total de catégories possible (en comptant noeuds et feuilles) :\")\n",
    "print(len(data['product_category_list'].explode().unique()))"
   ]
  },
  {
   "cell_type": "code",
   "execution_count": 12,
   "id": "baf6c1bf",
   "metadata": {},
   "outputs": [
    {
     "name": "stdout",
     "output_type": "stream",
     "text": [
      "Nombre total de catégories (feuilles) :\n",
      "642\n"
     ]
    }
   ],
   "source": [
    "print(\"Nombre total de catégories (feuilles) :\")\n",
    "print(len(data['product_category_tree'].unique()))"
   ]
  },
  {
   "cell_type": "code",
   "execution_count": 13,
   "id": "bbc25024",
   "metadata": {},
   "outputs": [
    {
     "name": "stdout",
     "output_type": "stream",
     "text": [
      "Taille minimum d'une branche : 2\n",
      "Taille maximum d'une branche : 7\n"
     ]
    }
   ],
   "source": [
    "tmp = data['product_category_list'].str.len()\n",
    "print(\"Taille minimum d'une branche :\", tmp.min())\n",
    "print(\"Taille maximum d'une branche :\", tmp.max())"
   ]
  },
  {
   "cell_type": "markdown",
   "id": "9412844e",
   "metadata": {},
   "source": [
    "Observation des catégories récupérées selon le niveau choisi :"
   ]
  },
  {
   "cell_type": "code",
   "execution_count": 14,
   "id": "79a8fec8",
   "metadata": {},
   "outputs": [],
   "source": [
    "level = 1"
   ]
  },
  {
   "cell_type": "code",
   "execution_count": 15,
   "id": "51126e62",
   "metadata": {},
   "outputs": [
    {
     "data": {
      "image/png": "[encoded data removed]",
      "text/plain": [
       "<Figure size 640x480 with 1 Axes>"
      ]
     },
     "metadata": {},
     "output_type": "display_data"
    }
   ],
   "source": [
    "tmp = data['product_category_list'].apply(lambda tree : get_from_tree(tree, level))\n",
    "ax = tmp.value_counts().plot(grid=True, title=\"Remplissage des catégories au level \"+str(level))"
   ]
  },
  {
   "cell_type": "code",
   "execution_count": 16,
   "id": "66038fd1",
   "metadata": {},
   "outputs": [],
   "source": [
    "level = -1"
   ]
  },
  {
   "cell_type": "code",
   "execution_count": 17,
   "id": "436cef5e",
   "metadata": {},
   "outputs": [
    {
     "data": {
      "image/png": "[encoded data removed]",
      "text/plain": [
       "<Figure size 640x480 with 1 Axes>"
      ]
     },
     "metadata": {},
     "output_type": "display_data"
    }
   ],
   "source": [
    "tmp = data['product_category_list'].apply(lambda tree : get_from_tree(tree, level))\n",
    "ax = tmp.value_counts().plot(grid=True, title=\"Remplissage des catégories au level \"+str(level))"
   ]
  },
  {
   "cell_type": "markdown",
   "id": "e085e137",
   "metadata": {},
   "source": [
    "Visualisation de l'arbre"
   ]
  },
  {
   "cell_type": "code",
   "execution_count": 18,
   "id": "bf3d1391",
   "metadata": {},
   "outputs": [],
   "source": [
    "import graphviz"
   ]
  },
  {
   "cell_type": "code",
   "execution_count": 19,
   "id": "68c95b4e",
   "metadata": {},
   "outputs": [],
   "source": [
    "dot = graphviz.Digraph()\n",
    "\n",
    "lien_deja = set()\n",
    "\n",
    "# Ajouter la racine de l'arbre\n",
    "dot.node('Racine')\n",
    "\n",
    "for n in data['product_category_list'].explode().unique():\n",
    "    dot.node(n)\n",
    "\n",
    "def ajouter_lien(precedent, actuel, suite):\n",
    "    nom = \"{}/{}\".format(precedent, actuel)\n",
    "    if nom not in lien_deja:\n",
    "        dot.edge(precedent, actuel)\n",
    "        lien_deja.add(nom)\n",
    "    \n",
    "    if len(suite) > 0 :\n",
    "        ajouter_lien(actuel, suite[0], suite[1:])\n",
    "\n",
    "for l in data['product_category_list']:\n",
    "    ajouter_lien('Racine', l[0], l[1:])\n",
    "\n",
    "# Affichage l'arbre\n",
    "# dot.render('categories', view=True)"
   ]
  },
  {
   "cell_type": "markdown",
   "id": "67acc41b",
   "metadata": {},
   "source": [
    "#### Choix du niveau de catégorie classique"
   ]
  },
  {
   "cell_type": "code",
   "execution_count": 20,
   "id": "f635f511",
   "metadata": {},
   "outputs": [],
   "source": [
    "level = 0"
   ]
  },
  {
   "cell_type": "code",
   "execution_count": 21,
   "id": "6288c27e",
   "metadata": {},
   "outputs": [],
   "source": [
    "data['cat_group'] = data['product_category_list'].apply(lambda tree : get_from_tree(tree, level))"
   ]
  },
  {
   "cell_type": "markdown",
   "id": "a2a03663",
   "metadata": {},
   "source": [
    "#### Version personalisée des catégories"
   ]
  },
  {
   "cell_type": "code",
   "execution_count": 22,
   "id": "b3d283e1",
   "metadata": {},
   "outputs": [],
   "source": [
    "# Nombre minimum d'éléments pour faire une catégorie\n",
    "nb_min_elements = 30"
   ]
  },
  {
   "cell_type": "code",
   "execution_count": 23,
   "id": "f8d1036a",
   "metadata": {},
   "outputs": [],
   "source": [
    "index = -1"
   ]
  },
  {
   "cell_type": "code",
   "execution_count": 24,
   "id": "a9be7788",
   "metadata": {},
   "outputs": [
    {
     "data": {
      "text/html": [
       "<div>\n",
       "<style scoped>\n",
       "    .dataframe tbody tr th:only-of-type {\n",
       "        vertical-align: middle;\n",
       "    }\n",
       "\n",
       "    .dataframe tbody tr th {\n",
       "        vertical-align: top;\n",
       "    }\n",
       "\n",
       "    .dataframe thead th {\n",
       "        text-align: right;\n",
       "    }\n",
       "</style>\n",
       "<table border=\"1\" class=\"dataframe\">\n",
       "  <thead>\n",
       "    <tr style=\"text-align: right;\">\n",
       "      <th></th>\n",
       "      <th>list</th>\n",
       "      <th>actual</th>\n",
       "    </tr>\n",
       "  </thead>\n",
       "  <tbody>\n",
       "    <tr>\n",
       "      <th>0</th>\n",
       "      <td>[Home Furnishing, Curtains &amp; Accessories, Curt...</td>\n",
       "      <td>Elegance Polyester Multicolor Abstract Eyelet ...</td>\n",
       "    </tr>\n",
       "    <tr>\n",
       "      <th>1</th>\n",
       "      <td>[Baby Care, Baby Bath &amp; Skin, Baby Bath Towels...</td>\n",
       "      <td>Sathiyas Cotton Bath Towel (3 Bath Towel, Red,...</td>\n",
       "    </tr>\n",
       "    <tr>\n",
       "      <th>2</th>\n",
       "      <td>[Baby Care, Baby Bath &amp; Skin, Baby Bath Towels...</td>\n",
       "      <td>Eurospa Cotton Terry Face Towel Set (20 PIECE ...</td>\n",
       "    </tr>\n",
       "    <tr>\n",
       "      <th>3</th>\n",
       "      <td>[Home Furnishing, Bed Linen, Bedsheets, SANTOS...</td>\n",
       "      <td>SANTOSH ROYAL FASHION Cotton Printed King size...</td>\n",
       "    </tr>\n",
       "    <tr>\n",
       "      <th>4</th>\n",
       "      <td>[Home Furnishing, Bed Linen, Bedsheets, Jaipur...</td>\n",
       "      <td>Jaipur Print Cotton Floral King sized Double B...</td>\n",
       "    </tr>\n",
       "    <tr>\n",
       "      <th>...</th>\n",
       "      <td>...</td>\n",
       "      <td>...</td>\n",
       "    </tr>\n",
       "    <tr>\n",
       "      <th>1045</th>\n",
       "      <td>[Baby Care, Baby &amp; Kids Gifts, Stickers, Oren ...</td>\n",
       "      <td>Oren Empower Stickers</td>\n",
       "    </tr>\n",
       "    <tr>\n",
       "      <th>1046</th>\n",
       "      <td>[Baby Care, Baby &amp; Kids Gifts, Stickers, Wallm...</td>\n",
       "      <td>Wallmantra Stickers</td>\n",
       "    </tr>\n",
       "    <tr>\n",
       "      <th>1047</th>\n",
       "      <td>[Baby Care, Baby &amp; Kids Gifts, Stickers, Uberl...</td>\n",
       "      <td>Uberlyfe Stickers</td>\n",
       "    </tr>\n",
       "    <tr>\n",
       "      <th>1048</th>\n",
       "      <td>[Baby Care, Baby &amp; Kids Gifts, Stickers, Wallm...</td>\n",
       "      <td>Wallmantra Stickers</td>\n",
       "    </tr>\n",
       "    <tr>\n",
       "      <th>1049</th>\n",
       "      <td>[Baby Care, Baby &amp; Kids Gifts, Stickers, Uberl...</td>\n",
       "      <td>Uberlyfe Stickers</td>\n",
       "    </tr>\n",
       "  </tbody>\n",
       "</table>\n",
       "<p>1050 rows × 2 columns</p>\n",
       "</div>"
      ],
      "text/plain": [
       "                                                   list   \n",
       "0     [Home Furnishing, Curtains & Accessories, Curt...  \\\n",
       "1     [Baby Care, Baby Bath & Skin, Baby Bath Towels...   \n",
       "2     [Baby Care, Baby Bath & Skin, Baby Bath Towels...   \n",
       "3     [Home Furnishing, Bed Linen, Bedsheets, SANTOS...   \n",
       "4     [Home Furnishing, Bed Linen, Bedsheets, Jaipur...   \n",
       "...                                                 ...   \n",
       "1045  [Baby Care, Baby & Kids Gifts, Stickers, Oren ...   \n",
       "1046  [Baby Care, Baby & Kids Gifts, Stickers, Wallm...   \n",
       "1047  [Baby Care, Baby & Kids Gifts, Stickers, Uberl...   \n",
       "1048  [Baby Care, Baby & Kids Gifts, Stickers, Wallm...   \n",
       "1049  [Baby Care, Baby & Kids Gifts, Stickers, Uberl...   \n",
       "\n",
       "                                                 actual  \n",
       "0     Elegance Polyester Multicolor Abstract Eyelet ...  \n",
       "1     Sathiyas Cotton Bath Towel (3 Bath Towel, Red,...  \n",
       "2     Eurospa Cotton Terry Face Towel Set (20 PIECE ...  \n",
       "3     SANTOSH ROYAL FASHION Cotton Printed King size...  \n",
       "4     Jaipur Print Cotton Floral King sized Double B...  \n",
       "...                                                 ...  \n",
       "1045                              Oren Empower Stickers  \n",
       "1046                                Wallmantra Stickers  \n",
       "1047                                  Uberlyfe Stickers  \n",
       "1048                                Wallmantra Stickers  \n",
       "1049                                  Uberlyfe Stickers  \n",
       "\n",
       "[1050 rows x 2 columns]"
      ]
     },
     "execution_count": 24,
     "metadata": {},
     "output_type": "execute_result"
    }
   ],
   "source": [
    "# Initialisation des données\n",
    "tmp = data[['product_category_list']].copy()\n",
    "tmp.columns = ['list']\n",
    "tmp['actual'] = tmp['list'].apply(lambda tree : get_from_tree(tree, index))\n",
    "tmp"
   ]
  },
  {
   "cell_type": "markdown",
   "id": "be63eb90",
   "metadata": {},
   "source": [
    "Application de l'algo : On part des feuilles de l'arbre, et tant qu'il n'y a pas assez l'éléments dans la catégorie on les remonte d'un niveau"
   ]
  },
  {
   "cell_type": "code",
   "execution_count": 25,
   "id": "5d36af7d",
   "metadata": {},
   "outputs": [],
   "source": [
    "old_unique = 0"
   ]
  },
  {
   "cell_type": "code",
   "execution_count": 26,
   "id": "e6c2591c",
   "metadata": {},
   "outputs": [],
   "source": [
    "while old_unique != len(tmp['actual'].unique()):\n",
    "    old_unique = len(tmp['actual'].unique())\n",
    "    index -= 1\n",
    "    tmp_actual = tmp.groupby('actual').count()\n",
    "    tmp_actual = tmp_actual.loc[tmp_actual['list']<nb_min_elements]\n",
    "    \n",
    "    mask = tmp['actual'].isin(tmp_actual.index)\n",
    "    \n",
    "    tmp.loc[mask, 'actual'] = tmp.loc[mask, 'list'].apply(lambda tree : get_from_tree(tree, index))"
   ]
  },
  {
   "cell_type": "code",
   "execution_count": 27,
   "id": "e5a8f229",
   "metadata": {},
   "outputs": [],
   "source": [
    "# Modification pour éviter une catégorie qui se retrouve seule sinon\n",
    "tmp.loc[tmp['actual']==\"Wrist Watches\", 'actual'] = \"Watches\""
   ]
  },
  {
   "cell_type": "code",
   "execution_count": 28,
   "id": "49f8b049",
   "metadata": {},
   "outputs": [
    {
     "data": {
      "text/plain": [
       "actual\n",
       "Watches                       150\n",
       "Baby Care                     110\n",
       "Home Furnishing                93\n",
       "Beauty and Personal Care       86\n",
       "Kitchen & Dining               76\n",
       "Coffee Mugs                    74\n",
       "Combos                         64\n",
       "Computers                      63\n",
       "Showpieces                     60\n",
       "Blankets, Quilts & Dohars      57\n",
       "Home Decor & Festive Needs     56\n",
       "Routers                        49\n",
       "Baby Girls' Clothes            40\n",
       "USB Gadgets                    38\n",
       "Ethnic                         34\n",
       "Name: count, dtype: int64"
      ]
     },
     "execution_count": 28,
     "metadata": {},
     "output_type": "execute_result"
    }
   ],
   "source": [
    "tmp['actual'].value_counts()"
   ]
  },
  {
   "cell_type": "code",
   "execution_count": 29,
   "id": "717641e8",
   "metadata": {},
   "outputs": [],
   "source": [
    "data['cat_group'] = tmp['actual']"
   ]
  },
  {
   "cell_type": "markdown",
   "id": "462961e9",
   "metadata": {},
   "source": [
    "### Finalisation mise en forme"
   ]
  },
  {
   "cell_type": "code",
   "execution_count": 30,
   "id": "1ce569d9",
   "metadata": {},
   "outputs": [
    {
     "data": {
      "image/png": "[encoded data removed]",
      "text/plain": [
       "<Figure size 640x480 with 1 Axes>"
      ]
     },
     "metadata": {},
     "output_type": "display_data"
    }
   ],
   "source": [
    "ax = data['cat_group'].value_counts().plot(grid=True, title=\"Remplissage des catégories final\")"
   ]
  },
  {
   "cell_type": "code",
   "execution_count": 31,
   "id": "f6585ab1",
   "metadata": {},
   "outputs": [],
   "source": [
    "# Nombre minimum d'éléments pour garder cette catégorie\n",
    "nb_min_elements = 3"
   ]
  },
  {
   "cell_type": "markdown",
   "id": "caf18510",
   "metadata": {},
   "source": [
    "Mise en forme"
   ]
  },
  {
   "cell_type": "code",
   "execution_count": 32,
   "id": "9cd0b546",
   "metadata": {},
   "outputs": [],
   "source": [
    "data_final = data[['image', 'product_category_list', 'cat_group']].copy()\n",
    "data_final.columns = ['img', 'cat_lst', 'cat']\n",
    "data_final['img'] = path_img+'/'+data_final['img']"
   ]
  },
  {
   "cell_type": "markdown",
   "id": "b4988b5a",
   "metadata": {},
   "source": [
    "Conversion des labels"
   ]
  },
  {
   "cell_type": "code",
   "execution_count": 33,
   "id": "9c43a484",
   "metadata": {},
   "outputs": [],
   "source": [
    "list_labels = list(data_final['cat'].value_counts().index)\n",
    "data_final['label'] = data_final['cat'].apply(lambda e : list_labels.index(e))"
   ]
  },
  {
   "cell_type": "markdown",
   "id": "dc1ad907",
   "metadata": {},
   "source": [
    "Récupération d'infos et suppression des lignes avec des catégories trop vides"
   ]
  },
  {
   "cell_type": "code",
   "execution_count": 34,
   "id": "b4600a0e",
   "metadata": {},
   "outputs": [],
   "source": [
    "nb_cat_little = (data_final['cat'].value_counts() > nb_min_elements).sum()\n",
    "nb_cat = len(list_labels)"
   ]
  },
  {
   "cell_type": "code",
   "execution_count": 35,
   "id": "b7fc071e",
   "metadata": {},
   "outputs": [
    {
     "name": "stdout",
     "output_type": "stream",
     "text": [
      "Nombre de catégories total : 15\n",
      "Nombre de catégories de plus de 3 élément : 15\n"
     ]
    }
   ],
   "source": [
    "print(\"Nombre de catégories total :\", nb_cat)\n",
    "print(\"Nombre de catégories de plus de\", nb_min_elements, \"élément :\", nb_cat_little)"
   ]
  },
  {
   "cell_type": "code",
   "execution_count": 36,
   "id": "8829ccf4",
   "metadata": {},
   "outputs": [],
   "source": [
    "data_little = data_final.loc[data_final['cat'].isin(list_labels[:nb_cat_little])].copy().reset_index(drop=True)"
   ]
  },
  {
   "cell_type": "code",
   "execution_count": 37,
   "id": "8bdfb8ef",
   "metadata": {},
   "outputs": [
    {
     "data": {
      "text/html": [
       "<div>\n",
       "<style scoped>\n",
       "    .dataframe tbody tr th:only-of-type {\n",
       "        vertical-align: middle;\n",
       "    }\n",
       "\n",
       "    .dataframe tbody tr th {\n",
       "        vertical-align: top;\n",
       "    }\n",
       "\n",
       "    .dataframe thead th {\n",
       "        text-align: right;\n",
       "    }\n",
       "</style>\n",
       "<table border=\"1\" class=\"dataframe\">\n",
       "  <thead>\n",
       "    <tr style=\"text-align: right;\">\n",
       "      <th></th>\n",
       "      <th>img</th>\n",
       "      <th>cat_lst</th>\n",
       "      <th>cat</th>\n",
       "      <th>label</th>\n",
       "    </tr>\n",
       "  </thead>\n",
       "  <tbody>\n",
       "    <tr>\n",
       "      <th>0</th>\n",
       "      <td>./data/Flipkart/Images/55b85ea15a1536d46b7190a...</td>\n",
       "      <td>[Home Furnishing, Curtains &amp; Accessories, Curt...</td>\n",
       "      <td>Home Furnishing</td>\n",
       "      <td>2</td>\n",
       "    </tr>\n",
       "    <tr>\n",
       "      <th>1</th>\n",
       "      <td>./data/Flipkart/Images/7b72c92c2f6c40268628ec5...</td>\n",
       "      <td>[Baby Care, Baby Bath &amp; Skin, Baby Bath Towels...</td>\n",
       "      <td>Baby Care</td>\n",
       "      <td>1</td>\n",
       "    </tr>\n",
       "    <tr>\n",
       "      <th>2</th>\n",
       "      <td>./data/Flipkart/Images/64d5d4a258243731dc7bbb1...</td>\n",
       "      <td>[Baby Care, Baby Bath &amp; Skin, Baby Bath Towels...</td>\n",
       "      <td>Baby Care</td>\n",
       "      <td>1</td>\n",
       "    </tr>\n",
       "    <tr>\n",
       "      <th>3</th>\n",
       "      <td>./data/Flipkart/Images/d4684dcdc759dd9cdf41504...</td>\n",
       "      <td>[Home Furnishing, Bed Linen, Bedsheets, SANTOS...</td>\n",
       "      <td>Home Furnishing</td>\n",
       "      <td>2</td>\n",
       "    </tr>\n",
       "    <tr>\n",
       "      <th>4</th>\n",
       "      <td>./data/Flipkart/Images/6325b6870c54cd47be6ebfb...</td>\n",
       "      <td>[Home Furnishing, Bed Linen, Bedsheets, Jaipur...</td>\n",
       "      <td>Home Furnishing</td>\n",
       "      <td>2</td>\n",
       "    </tr>\n",
       "    <tr>\n",
       "      <th>...</th>\n",
       "      <td>...</td>\n",
       "      <td>...</td>\n",
       "      <td>...</td>\n",
       "      <td>...</td>\n",
       "    </tr>\n",
       "    <tr>\n",
       "      <th>1045</th>\n",
       "      <td>./data/Flipkart/Images/958f54f4c46b53c8a0a9b81...</td>\n",
       "      <td>[Baby Care, Baby &amp; Kids Gifts, Stickers, Oren ...</td>\n",
       "      <td>Baby Care</td>\n",
       "      <td>1</td>\n",
       "    </tr>\n",
       "    <tr>\n",
       "      <th>1046</th>\n",
       "      <td>./data/Flipkart/Images/fd6cbcc22efb6b761bd564c...</td>\n",
       "      <td>[Baby Care, Baby &amp; Kids Gifts, Stickers, Wallm...</td>\n",
       "      <td>Baby Care</td>\n",
       "      <td>1</td>\n",
       "    </tr>\n",
       "    <tr>\n",
       "      <th>1047</th>\n",
       "      <td>./data/Flipkart/Images/5912e037d12774bb73a2048...</td>\n",
       "      <td>[Baby Care, Baby &amp; Kids Gifts, Stickers, Uberl...</td>\n",
       "      <td>Baby Care</td>\n",
       "      <td>1</td>\n",
       "    </tr>\n",
       "    <tr>\n",
       "      <th>1048</th>\n",
       "      <td>./data/Flipkart/Images/c3edc504d1b4f0ba6224fa5...</td>\n",
       "      <td>[Baby Care, Baby &amp; Kids Gifts, Stickers, Wallm...</td>\n",
       "      <td>Baby Care</td>\n",
       "      <td>1</td>\n",
       "    </tr>\n",
       "    <tr>\n",
       "      <th>1049</th>\n",
       "      <td>./data/Flipkart/Images/f2f027ad6a6df617c9f1251...</td>\n",
       "      <td>[Baby Care, Baby &amp; Kids Gifts, Stickers, Uberl...</td>\n",
       "      <td>Baby Care</td>\n",
       "      <td>1</td>\n",
       "    </tr>\n",
       "  </tbody>\n",
       "</table>\n",
       "<p>1050 rows × 4 columns</p>\n",
       "</div>"
      ],
      "text/plain": [
       "                                                    img   \n",
       "0     ./data/Flipkart/Images/55b85ea15a1536d46b7190a...  \\\n",
       "1     ./data/Flipkart/Images/7b72c92c2f6c40268628ec5...   \n",
       "2     ./data/Flipkart/Images/64d5d4a258243731dc7bbb1...   \n",
       "3     ./data/Flipkart/Images/d4684dcdc759dd9cdf41504...   \n",
       "4     ./data/Flipkart/Images/6325b6870c54cd47be6ebfb...   \n",
       "...                                                 ...   \n",
       "1045  ./data/Flipkart/Images/958f54f4c46b53c8a0a9b81...   \n",
       "1046  ./data/Flipkart/Images/fd6cbcc22efb6b761bd564c...   \n",
       "1047  ./data/Flipkart/Images/5912e037d12774bb73a2048...   \n",
       "1048  ./data/Flipkart/Images/c3edc504d1b4f0ba6224fa5...   \n",
       "1049  ./data/Flipkart/Images/f2f027ad6a6df617c9f1251...   \n",
       "\n",
       "                                                cat_lst              cat   \n",
       "0     [Home Furnishing, Curtains & Accessories, Curt...  Home Furnishing  \\\n",
       "1     [Baby Care, Baby Bath & Skin, Baby Bath Towels...        Baby Care   \n",
       "2     [Baby Care, Baby Bath & Skin, Baby Bath Towels...        Baby Care   \n",
       "3     [Home Furnishing, Bed Linen, Bedsheets, SANTOS...  Home Furnishing   \n",
       "4     [Home Furnishing, Bed Linen, Bedsheets, Jaipur...  Home Furnishing   \n",
       "...                                                 ...              ...   \n",
       "1045  [Baby Care, Baby & Kids Gifts, Stickers, Oren ...        Baby Care   \n",
       "1046  [Baby Care, Baby & Kids Gifts, Stickers, Wallm...        Baby Care   \n",
       "1047  [Baby Care, Baby & Kids Gifts, Stickers, Uberl...        Baby Care   \n",
       "1048  [Baby Care, Baby & Kids Gifts, Stickers, Wallm...        Baby Care   \n",
       "1049  [Baby Care, Baby & Kids Gifts, Stickers, Uberl...        Baby Care   \n",
       "\n",
       "      label  \n",
       "0         2  \n",
       "1         1  \n",
       "2         1  \n",
       "3         2  \n",
       "4         2  \n",
       "...     ...  \n",
       "1045      1  \n",
       "1046      1  \n",
       "1047      1  \n",
       "1048      1  \n",
       "1049      1  \n",
       "\n",
       "[1050 rows x 4 columns]"
      ]
     },
     "execution_count": 37,
     "metadata": {},
     "output_type": "execute_result"
    }
   ],
   "source": [
    "data_little"
   ]
  },
  {
   "cell_type": "code",
   "execution_count": 38,
   "id": "f515b759",
   "metadata": {},
   "outputs": [],
   "source": [
    "data_little.to_csv(\"./data/data_little.csv\")"
   ]
  },
  {
   "cell_type": "markdown",
   "id": "ca739339",
   "metadata": {},
   "source": [
    "# Mon CODE"
   ]
  },
  {
   "cell_type": "code",
   "execution_count": 39,
   "id": "d02f57fd",
   "metadata": {},
   "outputs": [],
   "source": [
    "def show_representation(data, cat, limit=None, X_tsne=None, title=''):\n",
    "    if X_tsne is None:\n",
    "        tsne = manifold.TSNE(n_components=2, perplexity=30, n_iter=2000, init='random')\n",
    "        X_tsne = tsne.fit_transform(data)\n",
    "    \n",
    "    df_tsne = pd.DataFrame(X_tsne, columns=['tsne1', 'tsne2'])\n",
    "    df_tsne[\"class\"] = cat.reset_index(drop=True)\n",
    "    \n",
    "    plt.figure(figsize=(8,5))\n",
    "    sns.scatterplot(\n",
    "        x=\"tsne1\", y=\"tsne2\",\n",
    "        hue=\"class\",\n",
    "        palette=sns.color_palette('tab10', n_colors=nb_cat_little), s=50,\n",
    "        data=df_tsne,\n",
    "        legend=\"brief\")\n",
    "\n",
    "    plt.title(title, fontsize = 14, pad = 35, fontweight = 'bold')\n",
    "    plt.xlabel('tsne1', fontsize = 14, fontweight = 'bold')\n",
    "    plt.ylabel('tsne2', fontsize = 14, fontweight = 'bold')\n",
    "    plt.legend(prop={'size': 8}) \n",
    "\n",
    "    plt.show()\n",
    "    \n",
    "    return X_tsne"
   ]
  },
  {
   "cell_type": "code",
   "execution_count": null,
   "id": "1c60f7a3",
   "metadata": {},
   "outputs": [],
   "source": []
  },
  {
   "cell_type": "code",
   "execution_count": 40,
   "id": "5fafd61d",
   "metadata": {},
   "outputs": [
    {
     "data": {
      "text/plain": [
       "(None, 224, 224, 3)"
      ]
     },
     "execution_count": 40,
     "metadata": {},
     "output_type": "execute_result"
    }
   ],
   "source": [
    "input_shape = MobileNetV2().input_shape\n",
    "input_shape"
   ]
  },
  {
   "cell_type": "code",
   "execution_count": 41,
   "id": "e4d67dff",
   "metadata": {},
   "outputs": [],
   "source": [
    "base_model = MobileNetV2(include_top=False, input_shape=input_shape[1:])\n",
    "base_model.trainable = False"
   ]
  },
  {
   "cell_type": "code",
   "execution_count": 42,
   "id": "0b9d0f84",
   "metadata": {},
   "outputs": [
    {
     "name": "stdout",
     "output_type": "stream",
     "text": [
      "Model: \"mobilenetv2_1.00_224\"\n",
      "__________________________________________________________________________________________________\n",
      " Layer (type)                   Output Shape         Param #     Connected to                     \n",
      "==================================================================================================\n",
      " input_2 (InputLayer)           [(None, 224, 224, 3  0           []                               \n",
      "                                )]                                                                \n",
      "                                                                                                  \n",
      " Conv1 (Conv2D)                 (None, 112, 112, 32  864         ['input_2[0][0]']                \n",
      "                                )                                                                 \n",
      "                                                                                                  \n",
      " bn_Conv1 (BatchNormalization)  (None, 112, 112, 32  128         ['Conv1[0][0]']                  \n",
      "                                )                                                                 \n",
      "                                                                                                  \n",
      " Conv1_relu (ReLU)              (None, 112, 112, 32  0           ['bn_Conv1[0][0]']               \n",
      "                                )                                                                 \n",
      "                                                                                                  \n",
      " expanded_conv_depthwise (Depth  (None, 112, 112, 32  288        ['Conv1_relu[0][0]']             \n",
      " wiseConv2D)                    )                                                                 \n",
      "                                                                                                  \n",
      " expanded_conv_depthwise_BN (Ba  (None, 112, 112, 32  128        ['expanded_conv_depthwise[0][0]']\n",
      " tchNormalization)              )                                                                 \n",
      "                                                                                                  \n",
      " expanded_conv_depthwise_relu (  (None, 112, 112, 32  0          ['expanded_conv_depthwise_BN[0][0\n",
      " ReLU)                          )                                ]']                              \n",
      "                                                                                                  \n",
      " expanded_conv_project (Conv2D)  (None, 112, 112, 16  512        ['expanded_conv_depthwise_relu[0]\n",
      "                                )                                [0]']                            \n",
      "                                                                                                  \n",
      " expanded_conv_project_BN (Batc  (None, 112, 112, 16  64         ['expanded_conv_project[0][0]']  \n",
      " hNormalization)                )                                                                 \n",
      "                                                                                                  \n",
      " block_1_expand (Conv2D)        (None, 112, 112, 96  1536        ['expanded_conv_project_BN[0][0]'\n",
      "                                )                                ]                                \n",
      "                                                                                                  \n",
      " block_1_expand_BN (BatchNormal  (None, 112, 112, 96  384        ['block_1_expand[0][0]']         \n",
      " ization)                       )                                                                 \n",
      "                                                                                                  \n",
      " block_1_expand_relu (ReLU)     (None, 112, 112, 96  0           ['block_1_expand_BN[0][0]']      \n",
      "                                )                                                                 \n",
      "                                                                                                  \n",
      " block_1_pad (ZeroPadding2D)    (None, 113, 113, 96  0           ['block_1_expand_relu[0][0]']    \n",
      "                                )                                                                 \n",
      "                                                                                                  \n",
      " block_1_depthwise (DepthwiseCo  (None, 56, 56, 96)  864         ['block_1_pad[0][0]']            \n",
      " nv2D)                                                                                            \n",
      "                                                                                                  \n",
      " block_1_depthwise_BN (BatchNor  (None, 56, 56, 96)  384         ['block_1_depthwise[0][0]']      \n",
      " malization)                                                                                      \n",
      "                                                                                                  \n",
      " block_1_depthwise_relu (ReLU)  (None, 56, 56, 96)   0           ['block_1_depthwise_BN[0][0]']   \n",
      "                                                                                                  \n",
      " block_1_project (Conv2D)       (None, 56, 56, 24)   2304        ['block_1_depthwise_relu[0][0]'] \n",
      "                                                                                                  \n",
      " block_1_project_BN (BatchNorma  (None, 56, 56, 24)  96          ['block_1_project[0][0]']        \n",
      " lization)                                                                                        \n",
      "                                                                                                  \n",
      " block_2_expand (Conv2D)        (None, 56, 56, 144)  3456        ['block_1_project_BN[0][0]']     \n",
      "                                                                                                  \n",
      " block_2_expand_BN (BatchNormal  (None, 56, 56, 144)  576        ['block_2_expand[0][0]']         \n",
      " ization)                                                                                         \n",
      "                                                                                                  \n",
      " block_2_expand_relu (ReLU)     (None, 56, 56, 144)  0           ['block_2_expand_BN[0][0]']      \n",
      "                                                                                                  \n",
      " block_2_depthwise (DepthwiseCo  (None, 56, 56, 144)  1296       ['block_2_expand_relu[0][0]']    \n",
      " nv2D)                                                                                            \n",
      "                                                                                                  \n",
      " block_2_depthwise_BN (BatchNor  (None, 56, 56, 144)  576        ['block_2_depthwise[0][0]']      \n",
      " malization)                                                                                      \n",
      "                                                                                                  \n",
      " block_2_depthwise_relu (ReLU)  (None, 56, 56, 144)  0           ['block_2_depthwise_BN[0][0]']   \n",
      "                                                                                                  \n",
      " block_2_project (Conv2D)       (None, 56, 56, 24)   3456        ['block_2_depthwise_relu[0][0]'] \n",
      "                                                                                                  \n",
      " block_2_project_BN (BatchNorma  (None, 56, 56, 24)  96          ['block_2_project[0][0]']        \n",
      " lization)                                                                                        \n",
      "                                                                                                  \n",
      " block_2_add (Add)              (None, 56, 56, 24)   0           ['block_1_project_BN[0][0]',     \n",
      "                                                                  'block_2_project_BN[0][0]']     \n",
      "                                                                                                  \n",
      " block_3_expand (Conv2D)        (None, 56, 56, 144)  3456        ['block_2_add[0][0]']            \n",
      "                                                                                                  \n",
      " block_3_expand_BN (BatchNormal  (None, 56, 56, 144)  576        ['block_3_expand[0][0]']         \n",
      " ization)                                                                                         \n",
      "                                                                                                  \n"
     ]
    },
    {
     "name": "stdout",
     "output_type": "stream",
     "text": [
      " block_3_expand_relu (ReLU)     (None, 56, 56, 144)  0           ['block_3_expand_BN[0][0]']      \n",
      "                                                                                                  \n",
      " block_3_pad (ZeroPadding2D)    (None, 57, 57, 144)  0           ['block_3_expand_relu[0][0]']    \n",
      "                                                                                                  \n",
      " block_3_depthwise (DepthwiseCo  (None, 28, 28, 144)  1296       ['block_3_pad[0][0]']            \n",
      " nv2D)                                                                                            \n",
      "                                                                                                  \n",
      " block_3_depthwise_BN (BatchNor  (None, 28, 28, 144)  576        ['block_3_depthwise[0][0]']      \n",
      " malization)                                                                                      \n",
      "                                                                                                  \n",
      " block_3_depthwise_relu (ReLU)  (None, 28, 28, 144)  0           ['block_3_depthwise_BN[0][0]']   \n",
      "                                                                                                  \n",
      " block_3_project (Conv2D)       (None, 28, 28, 32)   4608        ['block_3_depthwise_relu[0][0]'] \n",
      "                                                                                                  \n",
      " block_3_project_BN (BatchNorma  (None, 28, 28, 32)  128         ['block_3_project[0][0]']        \n",
      " lization)                                                                                        \n",
      "                                                                                                  \n",
      " block_4_expand (Conv2D)        (None, 28, 28, 192)  6144        ['block_3_project_BN[0][0]']     \n",
      "                                                                                                  \n",
      " block_4_expand_BN (BatchNormal  (None, 28, 28, 192)  768        ['block_4_expand[0][0]']         \n",
      " ization)                                                                                         \n",
      "                                                                                                  \n",
      " block_4_expand_relu (ReLU)     (None, 28, 28, 192)  0           ['block_4_expand_BN[0][0]']      \n",
      "                                                                                                  \n",
      " block_4_depthwise (DepthwiseCo  (None, 28, 28, 192)  1728       ['block_4_expand_relu[0][0]']    \n",
      " nv2D)                                                                                            \n",
      "                                                                                                  \n",
      " block_4_depthwise_BN (BatchNor  (None, 28, 28, 192)  768        ['block_4_depthwise[0][0]']      \n",
      " malization)                                                                                      \n",
      "                                                                                                  \n",
      " block_4_depthwise_relu (ReLU)  (None, 28, 28, 192)  0           ['block_4_depthwise_BN[0][0]']   \n",
      "                                                                                                  \n",
      " block_4_project (Conv2D)       (None, 28, 28, 32)   6144        ['block_4_depthwise_relu[0][0]'] \n",
      "                                                                                                  \n",
      " block_4_project_BN (BatchNorma  (None, 28, 28, 32)  128         ['block_4_project[0][0]']        \n",
      " lization)                                                                                        \n",
      "                                                                                                  \n",
      " block_4_add (Add)              (None, 28, 28, 32)   0           ['block_3_project_BN[0][0]',     \n",
      "                                                                  'block_4_project_BN[0][0]']     \n",
      "                                                                                                  \n",
      " block_5_expand (Conv2D)        (None, 28, 28, 192)  6144        ['block_4_add[0][0]']            \n",
      "                                                                                                  \n",
      " block_5_expand_BN (BatchNormal  (None, 28, 28, 192)  768        ['block_5_expand[0][0]']         \n",
      " ization)                                                                                         \n",
      "                                                                                                  \n",
      " block_5_expand_relu (ReLU)     (None, 28, 28, 192)  0           ['block_5_expand_BN[0][0]']      \n",
      "                                                                                                  \n",
      " block_5_depthwise (DepthwiseCo  (None, 28, 28, 192)  1728       ['block_5_expand_relu[0][0]']    \n",
      " nv2D)                                                                                            \n",
      "                                                                                                  \n",
      " block_5_depthwise_BN (BatchNor  (None, 28, 28, 192)  768        ['block_5_depthwise[0][0]']      \n",
      " malization)                                                                                      \n",
      "                                                                                                  \n",
      " block_5_depthwise_relu (ReLU)  (None, 28, 28, 192)  0           ['block_5_depthwise_BN[0][0]']   \n",
      "                                                                                                  \n",
      " block_5_project (Conv2D)       (None, 28, 28, 32)   6144        ['block_5_depthwise_relu[0][0]'] \n",
      "                                                                                                  \n",
      " block_5_project_BN (BatchNorma  (None, 28, 28, 32)  128         ['block_5_project[0][0]']        \n",
      " lization)                                                                                        \n",
      "                                                                                                  \n",
      " block_5_add (Add)              (None, 28, 28, 32)   0           ['block_4_add[0][0]',            \n",
      "                                                                  'block_5_project_BN[0][0]']     \n",
      "                                                                                                  \n",
      " block_6_expand (Conv2D)        (None, 28, 28, 192)  6144        ['block_5_add[0][0]']            \n",
      "                                                                                                  \n",
      " block_6_expand_BN (BatchNormal  (None, 28, 28, 192)  768        ['block_6_expand[0][0]']         \n",
      " ization)                                                                                         \n",
      "                                                                                                  \n",
      " block_6_expand_relu (ReLU)     (None, 28, 28, 192)  0           ['block_6_expand_BN[0][0]']      \n",
      "                                                                                                  \n",
      " block_6_pad (ZeroPadding2D)    (None, 29, 29, 192)  0           ['block_6_expand_relu[0][0]']    \n",
      "                                                                                                  \n",
      " block_6_depthwise (DepthwiseCo  (None, 14, 14, 192)  1728       ['block_6_pad[0][0]']            \n",
      " nv2D)                                                                                            \n",
      "                                                                                                  \n",
      " block_6_depthwise_BN (BatchNor  (None, 14, 14, 192)  768        ['block_6_depthwise[0][0]']      \n",
      " malization)                                                                                      \n",
      "                                                                                                  \n",
      " block_6_depthwise_relu (ReLU)  (None, 14, 14, 192)  0           ['block_6_depthwise_BN[0][0]']   \n",
      "                                                                                                  \n",
      " block_6_project (Conv2D)       (None, 14, 14, 64)   12288       ['block_6_depthwise_relu[0][0]'] \n",
      "                                                                                                  \n",
      " block_6_project_BN (BatchNorma  (None, 14, 14, 64)  256         ['block_6_project[0][0]']        \n"
     ]
    },
    {
     "name": "stdout",
     "output_type": "stream",
     "text": [
      " lization)                                                                                        \n",
      "                                                                                                  \n",
      " block_7_expand (Conv2D)        (None, 14, 14, 384)  24576       ['block_6_project_BN[0][0]']     \n",
      "                                                                                                  \n",
      " block_7_expand_BN (BatchNormal  (None, 14, 14, 384)  1536       ['block_7_expand[0][0]']         \n",
      " ization)                                                                                         \n",
      "                                                                                                  \n",
      " block_7_expand_relu (ReLU)     (None, 14, 14, 384)  0           ['block_7_expand_BN[0][0]']      \n",
      "                                                                                                  \n",
      " block_7_depthwise (DepthwiseCo  (None, 14, 14, 384)  3456       ['block_7_expand_relu[0][0]']    \n",
      " nv2D)                                                                                            \n",
      "                                                                                                  \n",
      " block_7_depthwise_BN (BatchNor  (None, 14, 14, 384)  1536       ['block_7_depthwise[0][0]']      \n",
      " malization)                                                                                      \n",
      "                                                                                                  \n",
      " block_7_depthwise_relu (ReLU)  (None, 14, 14, 384)  0           ['block_7_depthwise_BN[0][0]']   \n",
      "                                                                                                  \n",
      " block_7_project (Conv2D)       (None, 14, 14, 64)   24576       ['block_7_depthwise_relu[0][0]'] \n",
      "                                                                                                  \n",
      " block_7_project_BN (BatchNorma  (None, 14, 14, 64)  256         ['block_7_project[0][0]']        \n",
      " lization)                                                                                        \n",
      "                                                                                                  \n",
      " block_7_add (Add)              (None, 14, 14, 64)   0           ['block_6_project_BN[0][0]',     \n",
      "                                                                  'block_7_project_BN[0][0]']     \n",
      "                                                                                                  \n",
      " block_8_expand (Conv2D)        (None, 14, 14, 384)  24576       ['block_7_add[0][0]']            \n",
      "                                                                                                  \n",
      " block_8_expand_BN (BatchNormal  (None, 14, 14, 384)  1536       ['block_8_expand[0][0]']         \n",
      " ization)                                                                                         \n",
      "                                                                                                  \n",
      " block_8_expand_relu (ReLU)     (None, 14, 14, 384)  0           ['block_8_expand_BN[0][0]']      \n",
      "                                                                                                  \n",
      " block_8_depthwise (DepthwiseCo  (None, 14, 14, 384)  3456       ['block_8_expand_relu[0][0]']    \n",
      " nv2D)                                                                                            \n",
      "                                                                                                  \n",
      " block_8_depthwise_BN (BatchNor  (None, 14, 14, 384)  1536       ['block_8_depthwise[0][0]']      \n",
      " malization)                                                                                      \n",
      "                                                                                                  \n",
      " block_8_depthwise_relu (ReLU)  (None, 14, 14, 384)  0           ['block_8_depthwise_BN[0][0]']   \n",
      "                                                                                                  \n",
      " block_8_project (Conv2D)       (None, 14, 14, 64)   24576       ['block_8_depthwise_relu[0][0]'] \n",
      "                                                                                                  \n",
      " block_8_project_BN (BatchNorma  (None, 14, 14, 64)  256         ['block_8_project[0][0]']        \n",
      " lization)                                                                                        \n",
      "                                                                                                  \n",
      " block_8_add (Add)              (None, 14, 14, 64)   0           ['block_7_add[0][0]',            \n",
      "                                                                  'block_8_project_BN[0][0]']     \n",
      "                                                                                                  \n",
      " block_9_expand (Conv2D)        (None, 14, 14, 384)  24576       ['block_8_add[0][0]']            \n",
      "                                                                                                  \n",
      " block_9_expand_BN (BatchNormal  (None, 14, 14, 384)  1536       ['block_9_expand[0][0]']         \n",
      " ization)                                                                                         \n",
      "                                                                                                  \n",
      " block_9_expand_relu (ReLU)     (None, 14, 14, 384)  0           ['block_9_expand_BN[0][0]']      \n",
      "                                                                                                  \n",
      " block_9_depthwise (DepthwiseCo  (None, 14, 14, 384)  3456       ['block_9_expand_relu[0][0]']    \n",
      " nv2D)                                                                                            \n",
      "                                                                                                  \n",
      " block_9_depthwise_BN (BatchNor  (None, 14, 14, 384)  1536       ['block_9_depthwise[0][0]']      \n",
      " malization)                                                                                      \n",
      "                                                                                                  \n",
      " block_9_depthwise_relu (ReLU)  (None, 14, 14, 384)  0           ['block_9_depthwise_BN[0][0]']   \n",
      "                                                                                                  \n",
      " block_9_project (Conv2D)       (None, 14, 14, 64)   24576       ['block_9_depthwise_relu[0][0]'] \n",
      "                                                                                                  \n",
      " block_9_project_BN (BatchNorma  (None, 14, 14, 64)  256         ['block_9_project[0][0]']        \n",
      " lization)                                                                                        \n",
      "                                                                                                  \n",
      " block_9_add (Add)              (None, 14, 14, 64)   0           ['block_8_add[0][0]',            \n",
      "                                                                  'block_9_project_BN[0][0]']     \n",
      "                                                                                                  \n",
      " block_10_expand (Conv2D)       (None, 14, 14, 384)  24576       ['block_9_add[0][0]']            \n",
      "                                                                                                  \n",
      " block_10_expand_BN (BatchNorma  (None, 14, 14, 384)  1536       ['block_10_expand[0][0]']        \n",
      " lization)                                                                                        \n",
      "                                                                                                  \n",
      " block_10_expand_relu (ReLU)    (None, 14, 14, 384)  0           ['block_10_expand_BN[0][0]']     \n",
      "                                                                                                  \n",
      " block_10_depthwise (DepthwiseC  (None, 14, 14, 384)  3456       ['block_10_expand_relu[0][0]']   \n",
      " onv2D)                                                                                           \n",
      "                                                                                                  \n",
      " block_10_depthwise_BN (BatchNo  (None, 14, 14, 384)  1536       ['block_10_depthwise[0][0]']     \n",
      " rmalization)                                                                                     \n"
     ]
    },
    {
     "name": "stdout",
     "output_type": "stream",
     "text": [
      "                                                                                                  \n",
      " block_10_depthwise_relu (ReLU)  (None, 14, 14, 384)  0          ['block_10_depthwise_BN[0][0]']  \n",
      "                                                                                                  \n",
      " block_10_project (Conv2D)      (None, 14, 14, 96)   36864       ['block_10_depthwise_relu[0][0]']\n",
      "                                                                                                  \n",
      " block_10_project_BN (BatchNorm  (None, 14, 14, 96)  384         ['block_10_project[0][0]']       \n",
      " alization)                                                                                       \n",
      "                                                                                                  \n",
      " block_11_expand (Conv2D)       (None, 14, 14, 576)  55296       ['block_10_project_BN[0][0]']    \n",
      "                                                                                                  \n",
      " block_11_expand_BN (BatchNorma  (None, 14, 14, 576)  2304       ['block_11_expand[0][0]']        \n",
      " lization)                                                                                        \n",
      "                                                                                                  \n",
      " block_11_expand_relu (ReLU)    (None, 14, 14, 576)  0           ['block_11_expand_BN[0][0]']     \n",
      "                                                                                                  \n",
      " block_11_depthwise (DepthwiseC  (None, 14, 14, 576)  5184       ['block_11_expand_relu[0][0]']   \n",
      " onv2D)                                                                                           \n",
      "                                                                                                  \n",
      " block_11_depthwise_BN (BatchNo  (None, 14, 14, 576)  2304       ['block_11_depthwise[0][0]']     \n",
      " rmalization)                                                                                     \n",
      "                                                                                                  \n",
      " block_11_depthwise_relu (ReLU)  (None, 14, 14, 576)  0          ['block_11_depthwise_BN[0][0]']  \n",
      "                                                                                                  \n",
      " block_11_project (Conv2D)      (None, 14, 14, 96)   55296       ['block_11_depthwise_relu[0][0]']\n",
      "                                                                                                  \n",
      " block_11_project_BN (BatchNorm  (None, 14, 14, 96)  384         ['block_11_project[0][0]']       \n",
      " alization)                                                                                       \n",
      "                                                                                                  \n",
      " block_11_add (Add)             (None, 14, 14, 96)   0           ['block_10_project_BN[0][0]',    \n",
      "                                                                  'block_11_project_BN[0][0]']    \n",
      "                                                                                                  \n",
      " block_12_expand (Conv2D)       (None, 14, 14, 576)  55296       ['block_11_add[0][0]']           \n",
      "                                                                                                  \n",
      " block_12_expand_BN (BatchNorma  (None, 14, 14, 576)  2304       ['block_12_expand[0][0]']        \n",
      " lization)                                                                                        \n",
      "                                                                                                  \n",
      " block_12_expand_relu (ReLU)    (None, 14, 14, 576)  0           ['block_12_expand_BN[0][0]']     \n",
      "                                                                                                  \n",
      " block_12_depthwise (DepthwiseC  (None, 14, 14, 576)  5184       ['block_12_expand_relu[0][0]']   \n",
      " onv2D)                                                                                           \n",
      "                                                                                                  \n",
      " block_12_depthwise_BN (BatchNo  (None, 14, 14, 576)  2304       ['block_12_depthwise[0][0]']     \n",
      " rmalization)                                                                                     \n",
      "                                                                                                  \n",
      " block_12_depthwise_relu (ReLU)  (None, 14, 14, 576)  0          ['block_12_depthwise_BN[0][0]']  \n",
      "                                                                                                  \n",
      " block_12_project (Conv2D)      (None, 14, 14, 96)   55296       ['block_12_depthwise_relu[0][0]']\n",
      "                                                                                                  \n",
      " block_12_project_BN (BatchNorm  (None, 14, 14, 96)  384         ['block_12_project[0][0]']       \n",
      " alization)                                                                                       \n",
      "                                                                                                  \n",
      " block_12_add (Add)             (None, 14, 14, 96)   0           ['block_11_add[0][0]',           \n",
      "                                                                  'block_12_project_BN[0][0]']    \n",
      "                                                                                                  \n",
      " block_13_expand (Conv2D)       (None, 14, 14, 576)  55296       ['block_12_add[0][0]']           \n",
      "                                                                                                  \n",
      " block_13_expand_BN (BatchNorma  (None, 14, 14, 576)  2304       ['block_13_expand[0][0]']        \n",
      " lization)                                                                                        \n",
      "                                                                                                  \n",
      " block_13_expand_relu (ReLU)    (None, 14, 14, 576)  0           ['block_13_expand_BN[0][0]']     \n",
      "                                                                                                  \n",
      " block_13_pad (ZeroPadding2D)   (None, 15, 15, 576)  0           ['block_13_expand_relu[0][0]']   \n",
      "                                                                                                  \n",
      " block_13_depthwise (DepthwiseC  (None, 7, 7, 576)   5184        ['block_13_pad[0][0]']           \n",
      " onv2D)                                                                                           \n",
      "                                                                                                  \n",
      " block_13_depthwise_BN (BatchNo  (None, 7, 7, 576)   2304        ['block_13_depthwise[0][0]']     \n",
      " rmalization)                                                                                     \n",
      "                                                                                                  \n",
      " block_13_depthwise_relu (ReLU)  (None, 7, 7, 576)   0           ['block_13_depthwise_BN[0][0]']  \n",
      "                                                                                                  \n",
      " block_13_project (Conv2D)      (None, 7, 7, 160)    92160       ['block_13_depthwise_relu[0][0]']\n",
      "                                                                                                  \n",
      " block_13_project_BN (BatchNorm  (None, 7, 7, 160)   640         ['block_13_project[0][0]']       \n",
      " alization)                                                                                       \n",
      "                                                                                                  \n",
      " block_14_expand (Conv2D)       (None, 7, 7, 960)    153600      ['block_13_project_BN[0][0]']    \n",
      "                                                                                                  \n",
      " block_14_expand_BN (BatchNorma  (None, 7, 7, 960)   3840        ['block_14_expand[0][0]']        \n",
      " lization)                                                                                        \n",
      "                                                                                                  \n",
      " block_14_expand_relu (ReLU)    (None, 7, 7, 960)    0           ['block_14_expand_BN[0][0]']     \n",
      "                                                                                                  \n"
     ]
    },
    {
     "name": "stdout",
     "output_type": "stream",
     "text": [
      " block_14_depthwise (DepthwiseC  (None, 7, 7, 960)   8640        ['block_14_expand_relu[0][0]']   \n",
      " onv2D)                                                                                           \n",
      "                                                                                                  \n",
      " block_14_depthwise_BN (BatchNo  (None, 7, 7, 960)   3840        ['block_14_depthwise[0][0]']     \n",
      " rmalization)                                                                                     \n",
      "                                                                                                  \n",
      " block_14_depthwise_relu (ReLU)  (None, 7, 7, 960)   0           ['block_14_depthwise_BN[0][0]']  \n",
      "                                                                                                  \n",
      " block_14_project (Conv2D)      (None, 7, 7, 160)    153600      ['block_14_depthwise_relu[0][0]']\n",
      "                                                                                                  \n",
      " block_14_project_BN (BatchNorm  (None, 7, 7, 160)   640         ['block_14_project[0][0]']       \n",
      " alization)                                                                                       \n",
      "                                                                                                  \n",
      " block_14_add (Add)             (None, 7, 7, 160)    0           ['block_13_project_BN[0][0]',    \n",
      "                                                                  'block_14_project_BN[0][0]']    \n",
      "                                                                                                  \n",
      " block_15_expand (Conv2D)       (None, 7, 7, 960)    153600      ['block_14_add[0][0]']           \n",
      "                                                                                                  \n",
      " block_15_expand_BN (BatchNorma  (None, 7, 7, 960)   3840        ['block_15_expand[0][0]']        \n",
      " lization)                                                                                        \n",
      "                                                                                                  \n",
      " block_15_expand_relu (ReLU)    (None, 7, 7, 960)    0           ['block_15_expand_BN[0][0]']     \n",
      "                                                                                                  \n",
      " block_15_depthwise (DepthwiseC  (None, 7, 7, 960)   8640        ['block_15_expand_relu[0][0]']   \n",
      " onv2D)                                                                                           \n",
      "                                                                                                  \n",
      " block_15_depthwise_BN (BatchNo  (None, 7, 7, 960)   3840        ['block_15_depthwise[0][0]']     \n",
      " rmalization)                                                                                     \n",
      "                                                                                                  \n",
      " block_15_depthwise_relu (ReLU)  (None, 7, 7, 960)   0           ['block_15_depthwise_BN[0][0]']  \n",
      "                                                                                                  \n",
      " block_15_project (Conv2D)      (None, 7, 7, 160)    153600      ['block_15_depthwise_relu[0][0]']\n",
      "                                                                                                  \n",
      " block_15_project_BN (BatchNorm  (None, 7, 7, 160)   640         ['block_15_project[0][0]']       \n",
      " alization)                                                                                       \n",
      "                                                                                                  \n",
      " block_15_add (Add)             (None, 7, 7, 160)    0           ['block_14_add[0][0]',           \n",
      "                                                                  'block_15_project_BN[0][0]']    \n",
      "                                                                                                  \n",
      " block_16_expand (Conv2D)       (None, 7, 7, 960)    153600      ['block_15_add[0][0]']           \n",
      "                                                                                                  \n",
      " block_16_expand_BN (BatchNorma  (None, 7, 7, 960)   3840        ['block_16_expand[0][0]']        \n",
      " lization)                                                                                        \n",
      "                                                                                                  \n",
      " block_16_expand_relu (ReLU)    (None, 7, 7, 960)    0           ['block_16_expand_BN[0][0]']     \n",
      "                                                                                                  \n",
      " block_16_depthwise (DepthwiseC  (None, 7, 7, 960)   8640        ['block_16_expand_relu[0][0]']   \n",
      " onv2D)                                                                                           \n",
      "                                                                                                  \n",
      " block_16_depthwise_BN (BatchNo  (None, 7, 7, 960)   3840        ['block_16_depthwise[0][0]']     \n",
      " rmalization)                                                                                     \n",
      "                                                                                                  \n",
      " block_16_depthwise_relu (ReLU)  (None, 7, 7, 960)   0           ['block_16_depthwise_BN[0][0]']  \n",
      "                                                                                                  \n",
      " block_16_project (Conv2D)      (None, 7, 7, 320)    307200      ['block_16_depthwise_relu[0][0]']\n",
      "                                                                                                  \n",
      " block_16_project_BN (BatchNorm  (None, 7, 7, 320)   1280        ['block_16_project[0][0]']       \n",
      " alization)                                                                                       \n",
      "                                                                                                  \n",
      " Conv_1 (Conv2D)                (None, 7, 7, 1280)   409600      ['block_16_project_BN[0][0]']    \n",
      "                                                                                                  \n",
      " Conv_1_bn (BatchNormalization)  (None, 7, 7, 1280)  5120        ['Conv_1[0][0]']                 \n",
      "                                                                                                  \n",
      " out_relu (ReLU)                (None, 7, 7, 1280)   0           ['Conv_1_bn[0][0]']              \n",
      "                                                                                                  \n",
      "==================================================================================================\n",
      "Total params: 2,257,984\n",
      "Trainable params: 0\n",
      "Non-trainable params: 2,257,984\n",
      "__________________________________________________________________________________________________\n"
     ]
    }
   ],
   "source": [
    "base_model.summary()"
   ]
  },
  {
   "cell_type": "markdown",
   "id": "7f459467",
   "metadata": {},
   "source": [
    "## Conversion"
   ]
  },
  {
   "cell_type": "code",
   "execution_count": 43,
   "id": "ecb0590a",
   "metadata": {},
   "outputs": [],
   "source": [
    "def preprocess_image(path):\n",
    "    image = load_img(path, target_size=input_shape[1:3], interpolation='lanczos')\n",
    "    image = img_to_array(image)\n",
    "    image = preprocess_input(image)\n",
    "    return image"
   ]
  },
  {
   "cell_type": "code",
   "execution_count": 44,
   "id": "77ecb577",
   "metadata": {},
   "outputs": [],
   "source": [
    "def cat_to_label(l):\n",
    "    return np.argmax(l)"
   ]
  },
  {
   "cell_type": "code",
   "execution_count": null,
   "id": "9aa17c27",
   "metadata": {},
   "outputs": [],
   "source": []
  },
  {
   "cell_type": "code",
   "execution_count": 45,
   "id": "910977b3",
   "metadata": {},
   "outputs": [],
   "source": [
    "data_X = list(data_little[\"img\"].apply(preprocess_image))\n",
    "data_X = np.asarray(data_X).astype(np.float32)"
   ]
  },
  {
   "cell_type": "code",
   "execution_count": null,
   "id": "6d28a8ae",
   "metadata": {},
   "outputs": [],
   "source": []
  },
  {
   "cell_type": "code",
   "execution_count": 46,
   "id": "6a40a654",
   "metadata": {},
   "outputs": [],
   "source": [
    "data_y = to_categorical(data_little['label'], num_classes=nb_cat_little)"
   ]
  },
  {
   "cell_type": "code",
   "execution_count": null,
   "id": "cacf64a7",
   "metadata": {},
   "outputs": [],
   "source": []
  },
  {
   "cell_type": "code",
   "execution_count": 47,
   "id": "c54c253d",
   "metadata": {},
   "outputs": [],
   "source": [
    "X_train, X_test, y_train, y_test = train_test_split(data_X, data_y, test_size=0.33, stratify=data_y)"
   ]
  },
  {
   "cell_type": "code",
   "execution_count": null,
   "id": "9225586d",
   "metadata": {},
   "outputs": [],
   "source": []
  },
  {
   "cell_type": "code",
   "execution_count": 48,
   "id": "26392ebc",
   "metadata": {},
   "outputs": [],
   "source": [
    "flatten_layer = layers.Flatten()\n",
    "dense_layer_1 = layers.Dense(nb_cat_little*10, activation='relu')\n",
    "drop_out = layers.Dropout(0.2)\n",
    "dense_layer_2 = layers.Dense(nb_cat_little*4, activation='relu')\n",
    "prediction_layer = layers.Dense(nb_cat_little, activation='softmax')\n",
    "\n",
    "\n",
    "model = models.Sequential([\n",
    "    base_model,\n",
    "    flatten_layer,\n",
    "    dense_layer_1,\n",
    "    drop_out,\n",
    "    dense_layer_2,\n",
    "    prediction_layer\n",
    "])"
   ]
  },
  {
   "cell_type": "code",
   "execution_count": 49,
   "id": "b4fa4713",
   "metadata": {},
   "outputs": [
    {
     "name": "stdout",
     "output_type": "stream",
     "text": [
      "Model: \"sequential\"\n",
      "_________________________________________________________________\n",
      " Layer (type)                Output Shape              Param #   \n",
      "=================================================================\n",
      " mobilenetv2_1.00_224 (Funct  (None, 7, 7, 1280)       2257984   \n",
      " ional)                                                          \n",
      "                                                                 \n",
      " flatten (Flatten)           (None, 62720)             0         \n",
      "                                                                 \n",
      " dense (Dense)               (None, 150)               9408150   \n",
      "                                                                 \n",
      " dropout (Dropout)           (None, 150)               0         \n",
      "                                                                 \n",
      " dense_1 (Dense)             (None, 60)                9060      \n",
      "                                                                 \n",
      " dense_2 (Dense)             (None, 15)                915       \n",
      "                                                                 \n",
      "=================================================================\n",
      "Total params: 11,676,109\n",
      "Trainable params: 9,418,125\n",
      "Non-trainable params: 2,257,984\n",
      "_________________________________________________________________\n"
     ]
    }
   ],
   "source": [
    "model.summary()"
   ]
  },
  {
   "cell_type": "code",
   "execution_count": 50,
   "id": "6a056099",
   "metadata": {},
   "outputs": [
    {
     "name": "stdout",
     "output_type": "stream",
     "text": [
      "Epoch 1/20\n",
      "18/18 [==============================] - 24s 1s/step - loss: 4.4811 - accuracy: 0.3577 - val_loss: 2.0489 - val_accuracy: 0.5319\n",
      "Epoch 2/20\n",
      "18/18 [==============================] - 22s 1s/step - loss: 1.6013 - accuracy: 0.6744 - val_loss: 1.9485 - val_accuracy: 0.6170\n",
      "Epoch 3/20\n",
      "18/18 [==============================] - 20s 1s/step - loss: 0.8744 - accuracy: 0.8114 - val_loss: 1.7376 - val_accuracy: 0.6383\n",
      "Epoch 4/20\n",
      "18/18 [==============================] - 22s 1s/step - loss: 0.5105 - accuracy: 0.8648 - val_loss: 1.6722 - val_accuracy: 0.6809\n",
      "Epoch 5/20\n",
      "18/18 [==============================] - 19s 1s/step - loss: 0.2454 - accuracy: 0.9217 - val_loss: 1.5507 - val_accuracy: 0.6809\n",
      "Epoch 6/20\n",
      "18/18 [==============================] - 21s 1s/step - loss: 0.1668 - accuracy: 0.9520 - val_loss: 1.7691 - val_accuracy: 0.6525\n",
      "Epoch 7/20\n",
      "18/18 [==============================] - 19s 1s/step - loss: 0.1988 - accuracy: 0.9555 - val_loss: 1.7372 - val_accuracy: 0.6525\n",
      "Epoch 8/20\n",
      "18/18 [==============================] - 19s 1s/step - loss: 0.1471 - accuracy: 0.9520 - val_loss: 1.9413 - val_accuracy: 0.7021\n",
      "Epoch 9/20\n",
      "18/18 [==============================] - 19s 1s/step - loss: 0.1801 - accuracy: 0.9626 - val_loss: 1.6734 - val_accuracy: 0.6738\n",
      "Epoch 10/20\n",
      "18/18 [==============================] - 19s 1s/step - loss: 0.1571 - accuracy: 0.9609 - val_loss: 1.7778 - val_accuracy: 0.6950\n"
     ]
    }
   ],
   "source": [
    "model.compile(\n",
    "    optimizer='adam',\n",
    "    loss='categorical_crossentropy',\n",
    "    metrics=['accuracy'],\n",
    ")\n",
    "\n",
    "\n",
    "es = EarlyStopping(monitor='val_accuracy',  min_delta = 0.02, mode='max', patience=5, restore_best_weights=True)\n",
    "es = EarlyStopping(monitor='val_loss', min_delta = 0.02, mode='min', patience=5, restore_best_weights=True)\n",
    "\n",
    "history = model.fit(X_train, y_train, epochs=20, validation_split=0.2, batch_size=32, callbacks=[es])"
   ]
  },
  {
   "cell_type": "code",
   "execution_count": null,
   "id": "639a39be",
   "metadata": {},
   "outputs": [],
   "source": []
  },
  {
   "cell_type": "code",
   "execution_count": 51,
   "id": "76640366",
   "metadata": {},
   "outputs": [
    {
     "name": "stdout",
     "output_type": "stream",
     "text": [
      "22/22 [==============================] - 19s 840ms/step\n"
     ]
    }
   ],
   "source": [
    "pred_train = model.predict(X_train)"
   ]
  },
  {
   "cell_type": "code",
   "execution_count": 54,
   "id": "6089b7ca",
   "metadata": {},
   "outputs": [
    {
     "data": {
      "text/plain": [
       "0.9301570983180076"
      ]
     },
     "execution_count": 54,
     "metadata": {},
     "output_type": "execute_result"
    }
   ],
   "source": [
    "balanced_accuracy_score([cat_to_label(e) for e in pred_train], [cat_to_label(e) for e in y_train])"
   ]
  },
  {
   "cell_type": "code",
   "execution_count": 55,
   "id": "53e13180",
   "metadata": {},
   "outputs": [],
   "source": [
    "labels_little = data_little.sort_values('label')['cat'].drop_duplicates().to_list()"
   ]
  },
  {
   "cell_type": "code",
   "execution_count": 58,
   "id": "7eb71a93",
   "metadata": {},
   "outputs": [
    {
     "name": "stdout",
     "output_type": "stream",
     "text": [
      "                            precision    recall  f1-score   support\n",
      "\n",
      "                   Watches       0.99      1.00      1.00       100\n",
      "                 Baby Care       0.92      0.91      0.91        74\n",
      "           Home Furnishing       0.88      0.95      0.91        62\n",
      "  Beauty and Personal Care       0.98      0.93      0.96        58\n",
      "          Kitchen & Dining       0.92      0.90      0.91        51\n",
      "               Coffee Mugs       0.94      1.00      0.97        50\n",
      "                    Combos       1.00      0.98      0.99        43\n",
      "                 Computers       0.91      0.98      0.94        42\n",
      "                Showpieces       0.85      0.88      0.86        40\n",
      " Blankets, Quilts & Dohars       0.86      0.95      0.90        38\n",
      "Home Decor & Festive Needs       1.00      0.70      0.83        37\n",
      "                   Routers       1.00      0.94      0.97        33\n",
      "       Baby Girls' Clothes       0.87      1.00      0.93        27\n",
      "               USB Gadgets       0.91      0.80      0.85        25\n",
      "                    Ethnic       0.92      0.96      0.94        23\n",
      "\n",
      "                  accuracy                           0.93       703\n",
      "                 macro avg       0.93      0.92      0.92       703\n",
      "              weighted avg       0.94      0.93      0.93       703\n",
      "\n"
     ]
    }
   ],
   "source": [
    "print(classification_report(\n",
    "    [cat_to_label(e) for e in y_train],\n",
    "    [cat_to_label(e) for e in pred_train],\n",
    "    target_names=labels_little,\n",
    "    zero_division=0))"
   ]
  },
  {
   "cell_type": "code",
   "execution_count": 59,
   "id": "445ae1a2",
   "metadata": {},
   "outputs": [
    {
     "name": "stdout",
     "output_type": "stream",
     "text": [
      "11/11 [==============================] - 9s 799ms/step\n"
     ]
    }
   ],
   "source": [
    "pred_test = model.predict(X_test)"
   ]
  },
  {
   "cell_type": "code",
   "execution_count": 60,
   "id": "03343955",
   "metadata": {},
   "outputs": [],
   "source": [
    "y_test_label = [cat_to_label(e) for e in y_test]"
   ]
  },
  {
   "cell_type": "code",
   "execution_count": 61,
   "id": "dbd51509",
   "metadata": {},
   "outputs": [
    {
     "data": {
      "text/plain": [
       "0.723342939481268"
      ]
     },
     "execution_count": 61,
     "metadata": {},
     "output_type": "execute_result"
    }
   ],
   "source": [
    "accuracy_score(y_test_label, [cat_to_label(e) for e in pred_test])"
   ]
  },
  {
   "cell_type": "code",
   "execution_count": 62,
   "id": "413ea8bb",
   "metadata": {},
   "outputs": [
    {
     "data": {
      "text/plain": [
       "0.6991275131414947"
      ]
     },
     "execution_count": 62,
     "metadata": {},
     "output_type": "execute_result"
    }
   ],
   "source": [
    "cohen_kappa_score(y_test_label, [cat_to_label(e) for e in pred_test])"
   ]
  },
  {
   "cell_type": "code",
   "execution_count": 63,
   "id": "2cd10a67",
   "metadata": {},
   "outputs": [
    {
     "data": {
      "text/plain": [
       "0.7019491413295289"
      ]
     },
     "execution_count": 63,
     "metadata": {},
     "output_type": "execute_result"
    }
   ],
   "source": [
    "matthews_corrcoef(y_test_label, [cat_to_label(e) for e in pred_test])"
   ]
  },
  {
   "cell_type": "code",
   "execution_count": 64,
   "id": "af326c3b",
   "metadata": {},
   "outputs": [
    {
     "data": {
      "text/plain": [
       "0.8270893371757925"
      ]
     },
     "execution_count": 64,
     "metadata": {},
     "output_type": "execute_result"
    }
   ],
   "source": [
    "top_k_accuracy_score(y_test_label, pred_test, k=2)"
   ]
  },
  {
   "cell_type": "code",
   "execution_count": null,
   "id": "c50a7c3f",
   "metadata": {},
   "outputs": [],
   "source": []
  },
  {
   "cell_type": "code",
   "execution_count": 65,
   "id": "c832486c",
   "metadata": {},
   "outputs": [
    {
     "name": "stdout",
     "output_type": "stream",
     "text": [
      "                            precision    recall  f1-score   support\n",
      "\n",
      "                   Watches       0.92      0.96      0.94        50\n",
      "                 Baby Care       0.62      0.56      0.59        36\n",
      "           Home Furnishing       0.54      0.84      0.66        31\n",
      "  Beauty and Personal Care       0.84      0.57      0.68        28\n",
      "          Kitchen & Dining       0.67      0.64      0.65        25\n",
      "               Coffee Mugs       0.86      1.00      0.92        24\n",
      "                    Combos       0.91      1.00      0.95        21\n",
      "                 Computers       0.89      0.76      0.82        21\n",
      "                Showpieces       0.50      0.85      0.63        20\n",
      " Blankets, Quilts & Dohars       0.73      0.84      0.78        19\n",
      "Home Decor & Festive Needs       0.67      0.21      0.32        19\n",
      "                   Routers       0.87      0.81      0.84        16\n",
      "       Baby Girls' Clothes       0.90      0.69      0.78        13\n",
      "               USB Gadgets       0.29      0.31      0.30        13\n",
      "                    Ethnic       0.50      0.09      0.15        11\n",
      "\n",
      "                  accuracy                           0.72       347\n",
      "                 macro avg       0.71      0.68      0.67       347\n",
      "              weighted avg       0.74      0.72      0.71       347\n",
      "\n"
     ]
    }
   ],
   "source": [
    "print(classification_report(\n",
    "    [cat_to_label(e) for e in y_test],\n",
    "    [cat_to_label(e) for e in pred_test],\n",
    "    target_names=labels_little,\n",
    "    zero_division=0))"
   ]
  },
  {
   "cell_type": "code",
   "execution_count": null,
   "id": "24597829",
   "metadata": {},
   "outputs": [],
   "source": []
  },
  {
   "cell_type": "code",
   "execution_count": 66,
   "id": "db47a76b",
   "metadata": {},
   "outputs": [
    {
     "data": {
      "image/png": "[encoded data removed]",
      "text/plain": [
       "<Figure size 1000x500 with 2 Axes>"
      ]
     },
     "metadata": {},
     "output_type": "display_data"
    }
   ],
   "source": [
    "show_history(history)\n",
    "#plot_history(history, path=\"standard.png\")\n",
    "plt.close()"
   ]
  },
  {
   "cell_type": "code",
   "execution_count": 67,
   "id": "27a6e8b6",
   "metadata": {},
   "outputs": [
    {
     "data": {
      "image/png": "[encoded data removed]",
      "text/plain": [
       "<Figure size 640x480 with 1 Axes>"
      ]
     },
     "metadata": {},
     "output_type": "display_data"
    }
   ],
   "source": [
    "RocCurveDisplay.from_predictions(\n",
    "    y_test.ravel(),\n",
    "    pred_test.ravel(),\n",
    "    name=\"micro-average OvR\",\n",
    "    color=\"darkorange\",\n",
    ")\n",
    "plt.plot([0, 1], [0, 1], \"k--\", label=\"chance level (AUC = 0.5)\")\n",
    "plt.axis(\"square\")\n",
    "plt.xlabel(\"False Positive Rate\")\n",
    "plt.ylabel(\"True Positive Rate\")\n",
    "plt.title(\"Micro-averaged One-vs-Rest\\nReceiver Operating Characteristic\")\n",
    "plt.legend()\n",
    "plt.show()"
   ]
  },
  {
   "cell_type": "code",
   "execution_count": 68,
   "id": "6a5dc18a",
   "metadata": {},
   "outputs": [
    {
     "data": {
      "application/vnd.jupyter.widget-view+json": {
       "model_id": "d9d9c4631875485184dd0ced27b6d0fd",
       "version_major": 2,
       "version_minor": 0
      },
      "text/plain": [
       "interactive(children=(Dropdown(description='class_of_interest', options=('Watches', 'Baby Care', 'Home Furnish…"
      ]
     },
     "metadata": {},
     "output_type": "display_data"
    }
   ],
   "source": [
    "@interact\n",
    "def show_ROC_mono(class_of_interest = labels_little):\n",
    "    class_id = labels_little.index(class_of_interest)\n",
    "    RocCurveDisplay.from_predictions(\n",
    "        y_test[:, class_id],\n",
    "        pred_test[:, class_id],\n",
    "        name=f\"{class_of_interest} vs the rest\",\n",
    "        color=\"darkorange\",\n",
    "    )\n",
    "\n",
    "    plt.plot([0, 1], [0, 1], \"k--\", label=\"chance level (AUC = 0.5)\")\n",
    "    plt.axis(\"square\")\n",
    "    plt.xlabel(\"False Positive Rate\")\n",
    "    plt.ylabel(\"True Positive Rate\")\n",
    "    plt.title(f\"{class_of_interest} vs Rest ROC curves\")\n",
    "    plt.legend()\n",
    "    return plt.show()"
   ]
  },
  {
   "cell_type": "code",
   "execution_count": null,
   "id": "10e1076b",
   "metadata": {},
   "outputs": [],
   "source": []
  },
  {
   "cell_type": "code",
   "execution_count": null,
   "id": "f652fe77",
   "metadata": {},
   "outputs": [],
   "source": []
  },
  {
   "cell_type": "code",
   "execution_count": null,
   "id": "86a2aa2c",
   "metadata": {},
   "outputs": [],
   "source": []
  },
  {
   "cell_type": "markdown",
   "id": "5f6b2299",
   "metadata": {},
   "source": [
    "# Data Augmentation"
   ]
  },
  {
   "cell_type": "code",
   "execution_count": 69,
   "id": "4d724bc9",
   "metadata": {},
   "outputs": [],
   "source": [
    "tmp = data_final['cat'].value_counts()"
   ]
  },
  {
   "cell_type": "code",
   "execution_count": 70,
   "id": "e8a8fd90",
   "metadata": {},
   "outputs": [],
   "source": [
    "fig, ax = plt.subplots()\n",
    "sns.histplot(tmp, shrink=.8, discrete=True, ax=ax)\n",
    "ax.set_xlim(0,max(tmp)+1)\n",
    "plt.show()"
   ]
  },
  {
   "cell_type": "code",
   "execution_count": 71,
   "id": "44b63d15",
   "metadata": {},
   "outputs": [],
   "source": [
    "def show_from_cv2(img):\n",
    "    plt.figure(figsize=(6, 6))\n",
    "    \n",
    "    plt.imshow(img)\n",
    "    \n",
    "    ax = plt.gca()\n",
    "    plt.axis(\"off\")\n",
    "    return plt.show()"
   ]
  },
  {
   "cell_type": "code",
   "execution_count": 72,
   "id": "0d650d8a",
   "metadata": {},
   "outputs": [],
   "source": [
    "path = data_little['img'].iloc[0]"
   ]
  },
  {
   "cell_type": "code",
   "execution_count": 73,
   "id": "5d761c1e",
   "metadata": {},
   "outputs": [],
   "source": [
    "img = cv2.imread(path)\n",
    "img = cv2.resize(img, dsize=(1000, 1000), interpolation=cv2.INTER_CUBIC)\n",
    "show_from_cv2(img)"
   ]
  },
  {
   "cell_type": "code",
   "execution_count": 74,
   "id": "0c83af84",
   "metadata": {},
   "outputs": [],
   "source": [
    "@interact\n",
    "def change_hue(new=widgets.IntSlider(min=0, max=360, step=1, value=0)):\n",
    "    hsv = cv2.cvtColor(img, cv2.COLOR_BGR2HSV)\n",
    "    h,s,v = cv2.split(hsv)\n",
    "    hnew = np.mod(h + new, 180).astype(h.dtype)\n",
    "    hsv_new = cv2.merge([hnew,s,v])\n",
    "    img_new = cv2.cvtColor(hsv_new, cv2.COLOR_HSV2RGB)\n",
    "    return show_from_cv2(img_new)"
   ]
  },
  {
   "cell_type": "code",
   "execution_count": 75,
   "id": "657f0b05",
   "metadata": {},
   "outputs": [],
   "source": [
    "def visualize(original, augmented):\n",
    "    fig = plt.figure()\n",
    "    plt.subplot(1,2,1)\n",
    "    plt.title('Original image')\n",
    "    plt.imshow(original)\n",
    "    plt.axis(\"off\")\n",
    " \n",
    "    plt.subplot(1,2,2)\n",
    "    plt.title('Augmented image')\n",
    "    plt.imshow(augmented)\n",
    "    plt.axis(\"off\")"
   ]
  },
  {
   "cell_type": "code",
   "execution_count": 76,
   "id": "d4539fd6",
   "metadata": {},
   "outputs": [],
   "source": [
    "flipped = tf.image.flip_left_right(img)\n",
    "visualize(img, flipped)"
   ]
  },
  {
   "cell_type": "code",
   "execution_count": 77,
   "id": "ccd48c54",
   "metadata": {},
   "outputs": [],
   "source": [
    "saturated = tf.image.adjust_saturation(img, 256)\n",
    "visualize(img, saturated)"
   ]
  },
  {
   "cell_type": "code",
   "execution_count": 78,
   "id": "e1aaddb6",
   "metadata": {},
   "outputs": [],
   "source": [
    "tmp = tf.image.adjust_brightness(img, 0)\n",
    "visualize(img, tmp)"
   ]
  },
  {
   "cell_type": "code",
   "execution_count": 79,
   "id": "9dff995c",
   "metadata": {},
   "outputs": [],
   "source": [
    "tmp = tf.image.adjust_contrast(img, 1)\n",
    "visualize(img, tmp)"
   ]
  },
  {
   "cell_type": "code",
   "execution_count": 80,
   "id": "31098053",
   "metadata": {},
   "outputs": [],
   "source": [
    "tmp = tf.image.adjust_hue(img, -0.1)\n",
    "visualize(img, tmp)"
   ]
  },
  {
   "cell_type": "code",
   "execution_count": 81,
   "id": "e7c643fe",
   "metadata": {},
   "outputs": [],
   "source": [
    "i = 1"
   ]
  },
  {
   "cell_type": "code",
   "execution_count": 82,
   "id": "73aec53d",
   "metadata": {},
   "outputs": [],
   "source": [
    "bright = tf.image.stateless_random_hue(img, 0.1, (i, 0))\n",
    "visualize(img, bright)\n",
    "i += 1"
   ]
  },
  {
   "cell_type": "code",
   "execution_count": 83,
   "id": "43fbf22a",
   "metadata": {},
   "outputs": [],
   "source": [
    "bright = tf.image.stateless_random_contrast(img, 1, 1.1, (0, 2))\n",
    "visualize(img, bright)"
   ]
  },
  {
   "cell_type": "code",
   "execution_count": null,
   "id": "f609f0d6",
   "metadata": {},
   "outputs": [],
   "source": []
  },
  {
   "cell_type": "code",
   "execution_count": null,
   "id": "01762ad9",
   "metadata": {},
   "outputs": [],
   "source": []
  },
  {
   "cell_type": "code",
   "execution_count": null,
   "id": "86c7fb4d",
   "metadata": {},
   "outputs": [],
   "source": []
  },
  {
   "cell_type": "code",
   "execution_count": null,
   "id": "0353526f",
   "metadata": {},
   "outputs": [],
   "source": []
  },
  {
   "cell_type": "code",
   "execution_count": null,
   "id": "fe80b1ab",
   "metadata": {},
   "outputs": [],
   "source": []
  },
  {
   "cell_type": "code",
   "execution_count": null,
   "id": "e77b779f",
   "metadata": {},
   "outputs": [],
   "source": []
  },
  {
   "cell_type": "code",
   "execution_count": 84,
   "id": "2b149ecb",
   "metadata": {},
   "outputs": [],
   "source": [
    "import albumentations as A"
   ]
  },
  {
   "cell_type": "code",
   "execution_count": 85,
   "id": "780b9ac4",
   "metadata": {},
   "outputs": [],
   "source": [
    "transform = A.Compose([\n",
    "    #A.RandomCrop(width=256, height=256, p=1),\n",
    "    #A.ShiftScaleRotate(p=0.5),\n",
    "    A.HorizontalFlip(p=0.5),\n",
    "    #A.CLAHE(),\n",
    "    #A.RandomRotate90(),\n",
    "    #A.Transpose(),\n",
    "    A.ShiftScaleRotate(\n",
    "        shift_limit=0.02,\n",
    "        scale_limit=[-0.2, 0.02],\n",
    "        rotate_limit=0,\n",
    "        interpolation=cv2.INTER_LANCZOS4,\n",
    "        border_mode=cv2.BORDER_REFLECT_101,\n",
    "        value=(255, 255, 255),\n",
    "        p=0),\n",
    "    A.Perspective(scale=(0.05, 0.1),\n",
    "                keep_size=1,\n",
    "                pad_mode=cv2.BORDER_REFLECT_101,\n",
    "                pad_val=(255, 255, 255),\n",
    "                fit_output=0,\n",
    "                interpolation=cv2.INTER_LANCZOS4,\n",
    "                p=0),\n",
    "    A.SafeRotate(\n",
    "        limit=10,\n",
    "        interpolation=cv2.INTER_LANCZOS4,\n",
    "        border_mode=cv2.BORDER_REFLECT_101,\n",
    "        value=(255, 255, 255),\n",
    "        p=0),\n",
    "    #A.PiecewiseAffine(always_apply=False, p=1.0, scale=(0.03, 0.05), nb_rows=(4, 4), nb_cols=(4, 4), interpolation=4, mask_interpolation=0, cval=0, cval_mask=0, mode='wrap', absolute_scale=0, keypoints_threshold=0.01)\n",
    "    #A.OpticalDistortion(),\n",
    "    #A.RandomSnow(),\n",
    "    #A.RandomShadow(),\n",
    "    #A.RandomBrightnessContrast(p=.75),\n",
    "    A.ColorJitter(\n",
    "        brightness=0.1,\n",
    "        contrast=0.2,\n",
    "        saturation=0.2,\n",
    "        hue=0.7,\n",
    "        p=0.75),\n",
    "    #A.Blur(blur_limit=1),\n",
    "    A.GaussNoise(var_limit=(5.0, 50.0), p=0.5),\n",
    "    A.Downscale(p=0.75, scale_min=0.5, scale_max=0.6, interpolation=cv2.INTER_AREA)\n",
    "    #A.augmentations.geometric.resize.LongestMaxSize(max(input_shape[1:3])),\n",
    "])"
   ]
  },
  {
   "cell_type": "code",
   "execution_count": 86,
   "id": "42bf603d",
   "metadata": {},
   "outputs": [],
   "source": [
    "image = cv2.imread(data_little['img'].iloc[0])"
   ]
  },
  {
   "cell_type": "code",
   "execution_count": 87,
   "id": "94d6bf4c",
   "metadata": {
    "scrolled": false
   },
   "outputs": [],
   "source": [
    "fig, ax = plt.subplots(5, 3, figsize=(9, 15))\n",
    "for i in range(15):\n",
    "    image = load_img(data_little['img'].iloc[i], target_size=input_shape[1:3], interpolation='lanczos')\n",
    "    image = np.array(image)\n",
    "    transformed = transform(image=image)\n",
    "    ax[i // 3, i % 3].imshow(transformed[\"image\"])\n",
    "plt.show()"
   ]
  },
  {
   "cell_type": "code",
   "execution_count": null,
   "id": "12df689e",
   "metadata": {},
   "outputs": [],
   "source": []
  },
  {
   "cell_type": "code",
   "execution_count": null,
   "id": "137cdd1c",
   "metadata": {},
   "outputs": [],
   "source": []
  },
  {
   "cell_type": "code",
   "execution_count": 88,
   "id": "7cb19279",
   "metadata": {},
   "outputs": [],
   "source": [
    "def preprocess_image_augmented(path):\n",
    "    image = load_img(path, target_size=input_shape[1:3], interpolation='lanczos')\n",
    "    image = np.array(image)\n",
    "    image = transform(image=image)['image']\n",
    "    image = preprocess_input(image)\n",
    "    return image"
   ]
  },
  {
   "cell_type": "code",
   "execution_count": 89,
   "id": "25e5254e",
   "metadata": {},
   "outputs": [],
   "source": [
    "X_train_img, X_test_img, y_train_label, y_test_label = train_test_split(\n",
    "    data_little['img'],\n",
    "    data_little['label'],\n",
    "    test_size=0.33,\n",
    "    stratify=data_little['label'])"
   ]
  },
  {
   "cell_type": "code",
   "execution_count": null,
   "id": "64fd1294",
   "metadata": {},
   "outputs": [],
   "source": []
  },
  {
   "cell_type": "code",
   "execution_count": 90,
   "id": "0683b131",
   "metadata": {},
   "outputs": [],
   "source": [
    "X_test = list(X_test_img.apply(preprocess_image))\n",
    "X_test = np.asarray(X_test).astype(np.float32)"
   ]
  },
  {
   "cell_type": "code",
   "execution_count": null,
   "id": "be335091",
   "metadata": {},
   "outputs": [],
   "source": [
    "y_test = to_categorical(y_test_label, num_classes=nb_cat_little)"
   ]
  },
  {
   "cell_type": "code",
   "execution_count": null,
   "id": "0bda708c",
   "metadata": {},
   "outputs": [],
   "source": []
  },
  {
   "cell_type": "code",
   "execution_count": null,
   "id": "e3b77dd1",
   "metadata": {},
   "outputs": [],
   "source": [
    "df = pd.DataFrame([X_train_img, y_train_label]).T"
   ]
  },
  {
   "cell_type": "code",
   "execution_count": null,
   "id": "36d24e14",
   "metadata": {},
   "outputs": [],
   "source": [
    "df['label'].value_counts()"
   ]
  },
  {
   "cell_type": "code",
   "execution_count": null,
   "id": "cb8e9646",
   "metadata": {},
   "outputs": [],
   "source": [
    "X_augmented = []\n",
    "y_augmented = []\n",
    "\n",
    "but = int(np.quantile(df['label'].value_counts().to_list(), 0.8))\n",
    "print(\"Nombre minimum d'images dans une classe :\", but)\n",
    "for i, n in df['label'].value_counts().items():\n",
    "    if n >= but:\n",
    "        but = n\n",
    "    \n",
    "    a_faire = but - n\n",
    "    liste_images = df.loc[df['label']==i, 'img']\n",
    "    for path in np.random.choice(liste_images, a_faire):\n",
    "        img_tmp = preprocess_image_augmented(path)\n",
    "        X_augmented.append(img_tmp)\n",
    "        y_augmented.append(i)\n",
    "\n",
    "X_augmented = np.asarray(X_augmented).astype(np.float32)"
   ]
  },
  {
   "cell_type": "code",
   "execution_count": null,
   "id": "5a0aa056",
   "metadata": {},
   "outputs": [],
   "source": [
    "if len(X_augmented) == 0:\n",
    "    X_augmented = np.ndarray((0,) + input_shape[1:])"
   ]
  },
  {
   "cell_type": "code",
   "execution_count": null,
   "id": "6a8c0a41",
   "metadata": {},
   "outputs": [],
   "source": []
  },
  {
   "cell_type": "code",
   "execution_count": null,
   "id": "08e48c6c",
   "metadata": {},
   "outputs": [],
   "source": []
  },
  {
   "cell_type": "code",
   "execution_count": null,
   "id": "e105b714",
   "metadata": {},
   "outputs": [],
   "source": [
    "for i in range(0):\n",
    "    X_tmp = df[\"img\"].apply(preprocess_image_augmented)\n",
    "    X_tmp = np.asarray(list(X_tmp)).astype(np.float32)\n",
    "    \n",
    "    X_augmented = np.concatenate((X_augmented, X_tmp))\n",
    "    \n",
    "    y_tmp = df[\"label\"].copy()\n",
    "    \n",
    "    y_augmented = np.concatenate((y_augmented, y_tmp))"
   ]
  },
  {
   "cell_type": "code",
   "execution_count": null,
   "id": "8b463d68",
   "metadata": {},
   "outputs": [],
   "source": []
  },
  {
   "cell_type": "code",
   "execution_count": null,
   "id": "28763816",
   "metadata": {},
   "outputs": [],
   "source": []
  },
  {
   "cell_type": "code",
   "execution_count": null,
   "id": "6c9d842f",
   "metadata": {},
   "outputs": [],
   "source": [
    "X_train = df[\"img\"].apply(preprocess_image)"
   ]
  },
  {
   "cell_type": "code",
   "execution_count": null,
   "id": "b6265454",
   "metadata": {},
   "outputs": [],
   "source": [
    "X_train = np.asarray(list(X_train)).astype(np.float32)"
   ]
  },
  {
   "cell_type": "code",
   "execution_count": null,
   "id": "2fa2c51f",
   "metadata": {},
   "outputs": [],
   "source": [
    "X_train.shape"
   ]
  },
  {
   "cell_type": "code",
   "execution_count": null,
   "id": "3d54e4b1",
   "metadata": {},
   "outputs": [],
   "source": [
    "X_train = np.concatenate((X_train, X_augmented))"
   ]
  },
  {
   "cell_type": "code",
   "execution_count": null,
   "id": "d8f994c9",
   "metadata": {},
   "outputs": [],
   "source": [
    "X_train.shape"
   ]
  },
  {
   "cell_type": "code",
   "execution_count": null,
   "id": "b2b40644",
   "metadata": {},
   "outputs": [],
   "source": []
  },
  {
   "cell_type": "code",
   "execution_count": null,
   "id": "08b1bef3",
   "metadata": {},
   "outputs": [],
   "source": [
    "len(df[\"label\"])"
   ]
  },
  {
   "cell_type": "code",
   "execution_count": null,
   "id": "c1ec7784",
   "metadata": {},
   "outputs": [],
   "source": [
    "y_train = np.concatenate((df[\"label\"], y_augmented))"
   ]
  },
  {
   "cell_type": "code",
   "execution_count": null,
   "id": "0827d214",
   "metadata": {},
   "outputs": [],
   "source": [
    "y_train.shape"
   ]
  },
  {
   "cell_type": "code",
   "execution_count": null,
   "id": "5aafb1bc",
   "metadata": {},
   "outputs": [],
   "source": [
    "y_train = to_categorical(y_train, num_classes=nb_cat_little)"
   ]
  },
  {
   "cell_type": "code",
   "execution_count": null,
   "id": "a4489d50",
   "metadata": {},
   "outputs": [],
   "source": [
    "y_train.shape"
   ]
  },
  {
   "cell_type": "code",
   "execution_count": null,
   "id": "ea66fb5e",
   "metadata": {},
   "outputs": [],
   "source": []
  },
  {
   "cell_type": "code",
   "execution_count": null,
   "id": "b99f1842",
   "metadata": {},
   "outputs": [],
   "source": []
  },
  {
   "cell_type": "code",
   "execution_count": null,
   "id": "f9073465",
   "metadata": {},
   "outputs": [],
   "source": []
  },
  {
   "cell_type": "code",
   "execution_count": null,
   "id": "d8e745b6",
   "metadata": {},
   "outputs": [],
   "source": [
    "base_model = VGG16(include_top=False, input_shape=input_shape[1:])\n",
    "base_model.trainable = False"
   ]
  },
  {
   "cell_type": "code",
   "execution_count": null,
   "id": "675aa61d",
   "metadata": {},
   "outputs": [],
   "source": [
    "flatten_layer = layers.Flatten()\n",
    "dense_layer_1 = layers.Dense(nb_cat_little*10, activation='relu')\n",
    "drop_out = layers.Dropout(0.2)\n",
    "dense_layer_2 = layers.Dense(nb_cat_little*4, activation='relu')\n",
    "prediction_layer = layers.Dense(nb_cat_little, activation='softmax')\n",
    "\n",
    "\n",
    "model = models.Sequential([\n",
    "    base_model,\n",
    "    flatten_layer,\n",
    "    dense_layer_1,\n",
    "    drop_out,\n",
    "    dense_layer_2,\n",
    "    prediction_layer\n",
    "])"
   ]
  },
  {
   "cell_type": "code",
   "execution_count": null,
   "id": "4ac21be7",
   "metadata": {},
   "outputs": [],
   "source": [
    "model.compile(\n",
    "    optimizer='adam',\n",
    "    loss='categorical_crossentropy',\n",
    "    metrics=['accuracy'],\n",
    ")\n",
    "\n",
    "\n",
    "es = EarlyStopping(monitor='val_accuracy',  min_delta = 0.02, mode='max', patience=5, restore_best_weights=True)\n",
    "es = EarlyStopping(monitor='val_loss', min_delta = 0.02, mode='min', patience=5, restore_best_weights=True)\n",
    "\n",
    "history = model.fit(X_train, y_train, epochs=20, validation_split=0.4, batch_size=16, callbacks=[es])"
   ]
  },
  {
   "cell_type": "code",
   "execution_count": null,
   "id": "fa3b4c93",
   "metadata": {},
   "outputs": [],
   "source": [
    "pred_train = model.predict(X_train)"
   ]
  },
  {
   "cell_type": "code",
   "execution_count": null,
   "id": "bc9aec19",
   "metadata": {},
   "outputs": [],
   "source": [
    "balanced_accuracy_score([cat_to_label(e) for e in pred_train], [cat_to_label(e) for e in y_train])"
   ]
  },
  {
   "cell_type": "code",
   "execution_count": null,
   "id": "85b3b75b",
   "metadata": {},
   "outputs": [],
   "source": [
    "labels_little = data_little.sort_values('label')['cat'].drop_duplicates().to_list()"
   ]
  },
  {
   "cell_type": "code",
   "execution_count": null,
   "id": "5814222c",
   "metadata": {},
   "outputs": [],
   "source": [
    "print(classification_report(\n",
    "    [cat_to_label(e) for e in y_train],\n",
    "    [cat_to_label(e) for e in pred_train],\n",
    "    target_names=labels_little,\n",
    "    zero_division=0))"
   ]
  },
  {
   "cell_type": "code",
   "execution_count": null,
   "id": "5fa4768f",
   "metadata": {},
   "outputs": [],
   "source": [
    "pred_test = model.predict(X_test)"
   ]
  },
  {
   "cell_type": "code",
   "execution_count": null,
   "id": "f1ca8add",
   "metadata": {},
   "outputs": [],
   "source": [
    "y_test_label = [cat_to_label(e) for e in y_test]"
   ]
  },
  {
   "cell_type": "code",
   "execution_count": null,
   "id": "308ad17b",
   "metadata": {},
   "outputs": [],
   "source": [
    "accuracy_score(y_test_label, [cat_to_label(e) for e in pred_test])"
   ]
  },
  {
   "cell_type": "code",
   "execution_count": null,
   "id": "d86b2a53",
   "metadata": {},
   "outputs": [],
   "source": [
    "cohen_kappa_score(y_test_label, [cat_to_label(e) for e in pred_test])"
   ]
  },
  {
   "cell_type": "code",
   "execution_count": null,
   "id": "188b3ac4",
   "metadata": {},
   "outputs": [],
   "source": [
    "matthews_corrcoef(y_test_label, [cat_to_label(e) for e in pred_test])"
   ]
  },
  {
   "cell_type": "code",
   "execution_count": null,
   "id": "fc9ed402",
   "metadata": {},
   "outputs": [],
   "source": [
    "top_k_accuracy_score(y_test_label, pred_test, k=2)"
   ]
  },
  {
   "cell_type": "code",
   "execution_count": null,
   "id": "f48e0e39",
   "metadata": {},
   "outputs": [],
   "source": []
  },
  {
   "cell_type": "code",
   "execution_count": null,
   "id": "b6880291",
   "metadata": {},
   "outputs": [],
   "source": [
    "print(classification_report(\n",
    "    [cat_to_label(e) for e in y_test],\n",
    "    [cat_to_label(e) for e in pred_test],\n",
    "    target_names=labels_little,\n",
    "    zero_division=0))"
   ]
  },
  {
   "cell_type": "code",
   "execution_count": null,
   "id": "08061e35",
   "metadata": {},
   "outputs": [],
   "source": []
  },
  {
   "cell_type": "code",
   "execution_count": null,
   "id": "284194e6",
   "metadata": {},
   "outputs": [],
   "source": []
  },
  {
   "cell_type": "code",
   "execution_count": null,
   "id": "442f0341",
   "metadata": {},
   "outputs": [],
   "source": [
    "show_history(history)\n",
    "#plot_history(history, path=\"standard.png\")\n",
    "plt.close()"
   ]
  },
  {
   "cell_type": "code",
   "execution_count": null,
   "id": "6e96a594",
   "metadata": {},
   "outputs": [],
   "source": [
    "RocCurveDisplay.from_predictions(\n",
    "    y_test.ravel(),\n",
    "    pred_test.ravel(),\n",
    "    name=\"micro-average OvR\",\n",
    "    color=\"darkorange\",\n",
    ")\n",
    "plt.plot([0, 1], [0, 1], \"k--\", label=\"chance level (AUC = 0.5)\")\n",
    "plt.axis(\"square\")\n",
    "plt.xlabel(\"False Positive Rate\")\n",
    "plt.ylabel(\"True Positive Rate\")\n",
    "plt.title(\"Micro-averaged One-vs-Rest\\nReceiver Operating Characteristic\")\n",
    "plt.legend()\n",
    "plt.show()"
   ]
  },
  {
   "cell_type": "code",
   "execution_count": null,
   "id": "216c0ea7",
   "metadata": {},
   "outputs": [],
   "source": []
  },
  {
   "cell_type": "code",
   "execution_count": null,
   "id": "aaa528e2",
   "metadata": {},
   "outputs": [],
   "source": []
  },
  {
   "cell_type": "code",
   "execution_count": null,
   "id": "450674ee",
   "metadata": {},
   "outputs": [],
   "source": [
    "def get_max_coord(data):\n",
    "    max_value = data.values.max()\n",
    "    return list(zip(*np.where(data.values == max_value)))[0]"
   ]
  },
  {
   "cell_type": "code",
   "execution_count": null,
   "id": "89f4a585",
   "metadata": {},
   "outputs": [],
   "source": [
    "def compare_clustering(original, predict, return_cat=False):\n",
    "    data_show = pd.DataFrame(original, columns=['cat'])\n",
    "    data_show['pred'] = predict\n",
    "    data_show = pd.get_dummies(data_show, columns=['pred'])\n",
    "    data_show = data_show.groupby('cat').sum(numeric_only=True)\n",
    "\n",
    "    cat_restante = list(data_show.index)\n",
    "    col_restante = list(data_show.columns)\n",
    "    cat_final = []\n",
    "    col_final = []\n",
    "    for i in range(len(data_show)):\n",
    "        i_cat, i_col = get_max_coord(data_show.loc[cat_restante, col_restante])\n",
    "        n_col, n_cat = col_restante[i_col], cat_restante[i_cat]\n",
    "\n",
    "        col_final.append(n_col)\n",
    "        col_restante.remove(n_col)\n",
    "        cat_final.append(n_cat)\n",
    "        cat_restante.remove(n_cat)\n",
    "    \n",
    "    if return_cat:\n",
    "        return cat_final, col_final\n",
    "\n",
    "    print('ARI : ', adjusted_rand_score(original, predict))\n",
    "    \n",
    "    return data_show.loc[cat_final, col_final].style.background_gradient(cmap=\"YlGnBu\", axis=0)"
   ]
  },
  {
   "cell_type": "code",
   "execution_count": null,
   "id": "9fae4615",
   "metadata": {},
   "outputs": [],
   "source": [
    "labels_little = data_little.sort_values('label')['cat'].drop_duplicates().to_list()"
   ]
  },
  {
   "cell_type": "code",
   "execution_count": null,
   "id": "6435a106",
   "metadata": {},
   "outputs": [],
   "source": [
    "y_final_test = [cat_to_label(e) for e in y_test]\n",
    "y_final_pred_test = [cat_to_label(e) for e in pred_test]"
   ]
  },
  {
   "cell_type": "code",
   "execution_count": null,
   "id": "df3bc873",
   "metadata": {},
   "outputs": [],
   "source": [
    "compare_clustering([labels_little[i] for i in y_final_test], y_final_pred_test)"
   ]
  },
  {
   "cell_type": "code",
   "execution_count": null,
   "id": "4e9ccf7e",
   "metadata": {},
   "outputs": [],
   "source": [
    "list_cat, list_col = compare_clustering([labels_little[i] for i in y_final_test], y_final_pred_test, True)"
   ]
  },
  {
   "cell_type": "code",
   "execution_count": null,
   "id": "6ccf8f3a",
   "metadata": {},
   "outputs": [],
   "source": [
    "tmp = pd.DataFrame()"
   ]
  },
  {
   "cell_type": "code",
   "execution_count": null,
   "id": "52424104",
   "metadata": {},
   "outputs": [],
   "source": [
    "tmp['label'] = [labels_little[i] for i in y_final_test]\n",
    "tmp['pred'] = [labels_little[i] for i in y_final_pred_test]"
   ]
  },
  {
   "cell_type": "code",
   "execution_count": null,
   "id": "756fb730",
   "metadata": {},
   "outputs": [],
   "source": [
    "@interact\n",
    "def show_img(reel=list_cat, predit=list_cat, index=range(0, 10)):\n",
    "    \n",
    "    l = list(tmp.loc[(tmp['label']==reel) & (tmp['pred']==predit)].index)\n",
    "    \n",
    "    print(\"Nombre de lignes : \", len(l))\n",
    "    if index >= len(l):\n",
    "        return None\n",
    "\n",
    "    print(\"Index de cette image dans tmp : \", l[index])\n",
    "    \n",
    "    img = cv2.imread(X_test_img.iloc[l[index]])\n",
    "    h, w = img.shape[:2]\n",
    "    aspect = h/w\n",
    "    img = cv2.resize(img, dsize=(400, int(400*aspect)), interpolation=cv2.INTER_CUBIC)\n",
    "    return show_from_cv2(img)"
   ]
  },
  {
   "cell_type": "code",
   "execution_count": null,
   "id": "cafa94d6",
   "metadata": {},
   "outputs": [],
   "source": []
  },
  {
   "cell_type": "code",
   "execution_count": null,
   "id": "594003a4",
   "metadata": {},
   "outputs": [],
   "source": []
  },
  {
   "cell_type": "code",
   "execution_count": null,
   "id": "ed508611",
   "metadata": {},
   "outputs": [],
   "source": []
  }
 ],
 "metadata": {
  "kernelspec": {
   "display_name": "Python 3 (ipykernel)",
   "language": "python",
   "name": "python3"
  },
  "language_info": {
   "codemirror_mode": {
    "name": "ipython",
    "version": 3
   },
   "file_extension": ".py",
   "mimetype": "text/x-python",
   "name": "python",
   "nbconvert_exporter": "python",
   "pygments_lexer": "ipython3",
   "version": "3.9.16"
  }
 },
 "nbformat": 4,
 "nbformat_minor": 5
}
