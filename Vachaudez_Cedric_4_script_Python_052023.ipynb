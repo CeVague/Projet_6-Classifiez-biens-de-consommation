{
 "cells": [
  {
   "cell_type": "code",
   "execution_count": 1,
   "id": "90e59e2f",
   "metadata": {},
   "outputs": [],
   "source": [
    "import requests # plus moderne et haut niveau que http.client\n",
    "import json\n",
    "import pandas as pd\n",
    "import numpy as np"
   ]
  },
  {
   "cell_type": "markdown",
   "id": "e149c099",
   "metadata": {},
   "source": [
    "Forgeage de la requête"
   ]
  },
  {
   "cell_type": "code",
   "execution_count": 2,
   "id": "144cb163",
   "metadata": {},
   "outputs": [],
   "source": [
    "url = \"https://edamam-food-and-grocery-database.p.rapidapi.com/api/food-database/v2/parser\""
   ]
  },
  {
   "cell_type": "code",
   "execution_count": 3,
   "id": "d089ab96",
   "metadata": {},
   "outputs": [],
   "source": [
    "headers = {\n",
    "    \"X-RapidAPI-Key\": \"deb8f0c0e2mshc1cf829f6b800fdp1eab59jsnbd03391ec7d5\",\n",
    "    \"X-RapidAPI-Host\": \"edamam-food-and-grocery-database.p.rapidapi.com\",\n",
    "}"
   ]
  },
  {
   "cell_type": "code",
   "execution_count": 4,
   "id": "890570b9",
   "metadata": {},
   "outputs": [],
   "source": [
    "querystring = {\n",
    "    'ingr':'champagne'\n",
    "}"
   ]
  },
  {
   "cell_type": "markdown",
   "id": "8edfc839",
   "metadata": {},
   "source": [
    "Envoi de la requête et affichage du code status"
   ]
  },
  {
   "cell_type": "code",
   "execution_count": 5,
   "id": "f1c4effb",
   "metadata": {},
   "outputs": [],
   "source": [
    "response = requests.request(\"GET\", url, headers=headers, params=querystring)"
   ]
  },
  {
   "cell_type": "code",
   "execution_count": 6,
   "id": "e68b739a",
   "metadata": {},
   "outputs": [
    {
     "name": "stdout",
     "output_type": "stream",
     "text": [
      "200\n"
     ]
    }
   ],
   "source": [
    "print(response.status_code)"
   ]
  },
  {
   "cell_type": "markdown",
   "id": "38581968",
   "metadata": {},
   "source": [
    "Parsing de la réponse"
   ]
  },
  {
   "cell_type": "code",
   "execution_count": 7,
   "id": "60124a9b",
   "metadata": {},
   "outputs": [],
   "source": [
    "response_json = json.loads(response.text)"
   ]
  },
  {
   "cell_type": "markdown",
   "id": "443d9807",
   "metadata": {},
   "source": [
    "Transformation en tableau"
   ]
  },
  {
   "cell_type": "code",
   "execution_count": 8,
   "id": "02f569d3",
   "metadata": {},
   "outputs": [],
   "source": [
    "data = pd.DataFrame(columns=['foodId', 'label', 'category', 'image', 'foodContentsLabel'])"
   ]
  },
  {
   "cell_type": "code",
   "execution_count": 9,
   "id": "15bdc8c6",
   "metadata": {
    "scrolled": false
   },
   "outputs": [],
   "source": [
    "# On récupère les 10 premières réponses\n",
    "for e in response_json['hints'][:10]:\n",
    "    e = e['food']\n",
    "    \n",
    "    l = []\n",
    "    for c in data.columns:\n",
    "        if c in e:\n",
    "            l.append(e[c])\n",
    "        else:\n",
    "            l.append(np.nan) # Quand il n'y a pas de valeur on met Nan\n",
    "    data.loc[len(data)] = l"
   ]
  },
  {
   "cell_type": "code",
   "execution_count": 10,
   "id": "89734642",
   "metadata": {},
   "outputs": [
    {
     "data": {
      "text/html": [
       "<div>\n",
       "<style scoped>\n",
       "    .dataframe tbody tr th:only-of-type {\n",
       "        vertical-align: middle;\n",
       "    }\n",
       "\n",
       "    .dataframe tbody tr th {\n",
       "        vertical-align: top;\n",
       "    }\n",
       "\n",
       "    .dataframe thead th {\n",
       "        text-align: right;\n",
       "    }\n",
       "</style>\n",
       "<table border=\"1\" class=\"dataframe\">\n",
       "  <thead>\n",
       "    <tr style=\"text-align: right;\">\n",
       "      <th></th>\n",
       "      <th>foodId</th>\n",
       "      <th>label</th>\n",
       "      <th>category</th>\n",
       "      <th>image</th>\n",
       "      <th>foodContentsLabel</th>\n",
       "    </tr>\n",
       "  </thead>\n",
       "  <tbody>\n",
       "    <tr>\n",
       "      <th>0</th>\n",
       "      <td>food_a656mk2a5dmqb2adiamu6beihduu</td>\n",
       "      <td>Champagne</td>\n",
       "      <td>Generic foods</td>\n",
       "      <td>https://www.edamam.com/food-img/a71/a718cf3c52...</td>\n",
       "      <td>NaN</td>\n",
       "    </tr>\n",
       "    <tr>\n",
       "      <th>1</th>\n",
       "      <td>food_b753ithamdb8psbt0w2k9aquo06c</td>\n",
       "      <td>Champagne Vinaigrette, Champagne</td>\n",
       "      <td>Packaged foods</td>\n",
       "      <td>NaN</td>\n",
       "      <td>OLIVE OIL; BALSAMIC VINEGAR; CHAMPAGNE VINEGAR...</td>\n",
       "    </tr>\n",
       "    <tr>\n",
       "      <th>2</th>\n",
       "      <td>food_b3dyababjo54xobm6r8jzbghjgqe</td>\n",
       "      <td>Champagne Vinaigrette, Champagne</td>\n",
       "      <td>Packaged foods</td>\n",
       "      <td>https://www.edamam.com/food-img/d88/d88b64d973...</td>\n",
       "      <td>INGREDIENTS: WATER; CANOLA OIL; CHAMPAGNE VINE...</td>\n",
       "    </tr>\n",
       "    <tr>\n",
       "      <th>3</th>\n",
       "      <td>food_a9e0ghsamvoc45bwa2ybsa3gken9</td>\n",
       "      <td>Champagne Vinaigrette, Champagne</td>\n",
       "      <td>Packaged foods</td>\n",
       "      <td>NaN</td>\n",
       "      <td>CANOLA AND SOYBEAN OIL; WHITE WINE (CONTAINS S...</td>\n",
       "    </tr>\n",
       "    <tr>\n",
       "      <th>4</th>\n",
       "      <td>food_an4jjueaucpus2a3u1ni8auhe7q9</td>\n",
       "      <td>Champagne Vinaigrette, Champagne</td>\n",
       "      <td>Packaged foods</td>\n",
       "      <td>NaN</td>\n",
       "      <td>WATER; CANOLA AND SOYBEAN OIL; WHITE WINE (CON...</td>\n",
       "    </tr>\n",
       "    <tr>\n",
       "      <th>5</th>\n",
       "      <td>food_bmu5dmkazwuvpaa5prh1daa8jxs0</td>\n",
       "      <td>Champagne Dressing, Champagne</td>\n",
       "      <td>Packaged foods</td>\n",
       "      <td>https://www.edamam.com/food-img/ab2/ab2459fc2a...</td>\n",
       "      <td>SOYBEAN OIL; WHITE WINE (PRESERVED WITH SULFIT...</td>\n",
       "    </tr>\n",
       "    <tr>\n",
       "      <th>6</th>\n",
       "      <td>food_alpl44taoyv11ra0lic1qa8xculi</td>\n",
       "      <td>Champagne Buttercream</td>\n",
       "      <td>Generic meals</td>\n",
       "      <td>NaN</td>\n",
       "      <td>sugar; butter; shortening; vanilla; champagne;...</td>\n",
       "    </tr>\n",
       "    <tr>\n",
       "      <th>7</th>\n",
       "      <td>food_byap67hab6evc3a0f9w1oag3s0qf</td>\n",
       "      <td>Champagne Sorbet</td>\n",
       "      <td>Generic meals</td>\n",
       "      <td>NaN</td>\n",
       "      <td>Sugar; Lemon juice; brandy; Champagne; Peach</td>\n",
       "    </tr>\n",
       "    <tr>\n",
       "      <th>8</th>\n",
       "      <td>food_am5egz6aq3fpjlaf8xpkdbc2asis</td>\n",
       "      <td>Champagne Truffles</td>\n",
       "      <td>Generic meals</td>\n",
       "      <td>NaN</td>\n",
       "      <td>butter; cocoa; sweetened condensed milk; vanil...</td>\n",
       "    </tr>\n",
       "    <tr>\n",
       "      <th>9</th>\n",
       "      <td>food_bcz8rhiajk1fuva0vkfmeakbouc0</td>\n",
       "      <td>Champagne Vinaigrette</td>\n",
       "      <td>Generic meals</td>\n",
       "      <td>NaN</td>\n",
       "      <td>champagne vinegar; olive oil; Dijon mustard; s...</td>\n",
       "    </tr>\n",
       "  </tbody>\n",
       "</table>\n",
       "</div>"
      ],
      "text/plain": [
       "                              foodId                             label  \\\n",
       "0  food_a656mk2a5dmqb2adiamu6beihduu                         Champagne   \n",
       "1  food_b753ithamdb8psbt0w2k9aquo06c  Champagne Vinaigrette, Champagne   \n",
       "2  food_b3dyababjo54xobm6r8jzbghjgqe  Champagne Vinaigrette, Champagne   \n",
       "3  food_a9e0ghsamvoc45bwa2ybsa3gken9  Champagne Vinaigrette, Champagne   \n",
       "4  food_an4jjueaucpus2a3u1ni8auhe7q9  Champagne Vinaigrette, Champagne   \n",
       "5  food_bmu5dmkazwuvpaa5prh1daa8jxs0     Champagne Dressing, Champagne   \n",
       "6  food_alpl44taoyv11ra0lic1qa8xculi             Champagne Buttercream   \n",
       "7  food_byap67hab6evc3a0f9w1oag3s0qf                  Champagne Sorbet   \n",
       "8  food_am5egz6aq3fpjlaf8xpkdbc2asis                Champagne Truffles   \n",
       "9  food_bcz8rhiajk1fuva0vkfmeakbouc0             Champagne Vinaigrette   \n",
       "\n",
       "         category                                              image  \\\n",
       "0   Generic foods  https://www.edamam.com/food-img/a71/a718cf3c52...   \n",
       "1  Packaged foods                                                NaN   \n",
       "2  Packaged foods  https://www.edamam.com/food-img/d88/d88b64d973...   \n",
       "3  Packaged foods                                                NaN   \n",
       "4  Packaged foods                                                NaN   \n",
       "5  Packaged foods  https://www.edamam.com/food-img/ab2/ab2459fc2a...   \n",
       "6   Generic meals                                                NaN   \n",
       "7   Generic meals                                                NaN   \n",
       "8   Generic meals                                                NaN   \n",
       "9   Generic meals                                                NaN   \n",
       "\n",
       "                                   foodContentsLabel  \n",
       "0                                                NaN  \n",
       "1  OLIVE OIL; BALSAMIC VINEGAR; CHAMPAGNE VINEGAR...  \n",
       "2  INGREDIENTS: WATER; CANOLA OIL; CHAMPAGNE VINE...  \n",
       "3  CANOLA AND SOYBEAN OIL; WHITE WINE (CONTAINS S...  \n",
       "4  WATER; CANOLA AND SOYBEAN OIL; WHITE WINE (CON...  \n",
       "5  SOYBEAN OIL; WHITE WINE (PRESERVED WITH SULFIT...  \n",
       "6  sugar; butter; shortening; vanilla; champagne;...  \n",
       "7       Sugar; Lemon juice; brandy; Champagne; Peach  \n",
       "8  butter; cocoa; sweetened condensed milk; vanil...  \n",
       "9  champagne vinegar; olive oil; Dijon mustard; s...  "
      ]
     },
     "execution_count": 10,
     "metadata": {},
     "output_type": "execute_result"
    }
   ],
   "source": [
    "data"
   ]
  },
  {
   "cell_type": "markdown",
   "id": "27570b0e",
   "metadata": {},
   "source": [
    "Export"
   ]
  },
  {
   "cell_type": "code",
   "execution_count": 11,
   "id": "2c656651",
   "metadata": {},
   "outputs": [],
   "source": [
    "data.to_csv('./data/api.csv', index=False)"
   ]
  }
 ],
 "metadata": {
  "kernelspec": {
   "display_name": "Python 3 (ipykernel)",
   "language": "python",
   "name": "python3"
  },
  "language_info": {
   "codemirror_mode": {
    "name": "ipython",
    "version": 3
   },
   "file_extension": ".py",
   "mimetype": "text/x-python",
   "name": "python",
   "nbconvert_exporter": "python",
   "pygments_lexer": "ipython3",
   "version": "3.9.16"
  }
 },
 "nbformat": 4,
 "nbformat_minor": 5
}
