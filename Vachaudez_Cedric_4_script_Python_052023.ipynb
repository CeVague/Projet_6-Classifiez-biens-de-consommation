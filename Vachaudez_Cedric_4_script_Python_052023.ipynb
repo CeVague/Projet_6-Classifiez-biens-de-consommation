{
 "cells": [
  {
   "cell_type": "code",
   "execution_count": 8,
   "id": "90e59e2f",
   "metadata": {},
   "outputs": [],
   "source": [
    "import http.client"
   ]
  },
  {
   "cell_type": "code",
   "execution_count": 9,
   "id": "144cb163",
   "metadata": {},
   "outputs": [],
   "source": [
    "conn = http.client.HTTPSConnection(\"edamam-food-and-grocery-database.p.rapidapi.com\")"
   ]
  },
  {
   "cell_type": "code",
   "execution_count": 10,
   "id": "890570b9",
   "metadata": {},
   "outputs": [],
   "source": [
    "headers = {\n",
    "    'X-RapidAPI-Key': \"ff1cd2b240mshd469ac68ded746ap18578fjsn3c818840fd04\",\n",
    "    'X-RapidAPI-Host': \"edamam-food-and-grocery-database.p.rapidapi.com\"\n",
    "    }\n",
    "\n",
    "conn.request(\"GET\", \"/api/food-database/v2/parser?app_id=%3CREQUIRED%3E&app_key=%3CREQUIRED%3E&category%5B0%5D=generic-foods&health%5B0%5D=alcohol-free&nutrition-type=cooking\", headers=headers)"
   ]
  },
  {
   "cell_type": "code",
   "execution_count": 11,
   "id": "f1c4effb",
   "metadata": {},
   "outputs": [],
   "source": [
    "res = conn.getresponse()\n",
    "data = res.read()"
   ]
  },
  {
   "cell_type": "code",
   "execution_count": 12,
   "id": "f873258c",
   "metadata": {},
   "outputs": [
    {
     "name": "stdout",
     "output_type": "stream",
     "text": [
      "{\"status\":\"error\",\"message\":\"Unauthorized app_id = <REQUIRED>\"}\n"
     ]
    }
   ],
   "source": [
    "\n",
    "\n",
    "print(data.decode(\"utf-8\"))"
   ]
  },
  {
   "cell_type": "code",
   "execution_count": null,
   "id": "5bd00f08",
   "metadata": {},
   "outputs": [],
   "source": []
  }
 ],
 "metadata": {
  "kernelspec": {
   "display_name": "Python 3 (ipykernel)",
   "language": "python",
   "name": "python3"
  },
  "language_info": {
   "codemirror_mode": {
    "name": "ipython",
    "version": 3
   },
   "file_extension": ".py",
   "mimetype": "text/x-python",
   "name": "python",
   "nbconvert_exporter": "python",
   "pygments_lexer": "ipython3",
   "version": "3.10.10"
  }
 },
 "nbformat": 4,
 "nbformat_minor": 5
}
